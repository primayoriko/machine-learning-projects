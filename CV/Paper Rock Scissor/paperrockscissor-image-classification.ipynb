{
  "nbformat": 4,
  "nbformat_minor": 0,
  "metadata": {
    "colab": {
      "name": "notebook.ipynb",
      "provenance": [],
      "collapsed_sections": []
    },
    "kernelspec": {
      "name": "python3",
      "display_name": "Python 3"
    }
  },
  "cells": [
    {
      "cell_type": "markdown",
      "metadata": {
        "id": "PFaUCvrFVVxf"
      },
      "source": [
        "<p> <strong>Nama:</strong> Naufal Prima Yoriko</p>\n",
        "<p> <strong>Email:</strong> primayoriko@gmail.com </p>\n",
        "<p> <strong>Username:</strong> primayoriko </p>\n",
        "<p> <strong>Dicoding Profile:</strong> https://www.dicoding.com/users/primayoriko </p>\n"
      ]
    },
    {
      "cell_type": "markdown",
      "metadata": {
        "id": "D7Gu5tHLWn4b"
      },
      "source": [
        "# **Submission PaperRockScissors**\n",
        "\n",
        "Sebelum menuju ke langkah pengerjaan, ini terdapat beberapa referensi yang saya pakai\n",
        "\n",
        "1.   Neural Network Activation Function in Keras\n",
        "     *   https://missinglink.ai/guides/neural-network-concepts/7-types-neural-network-activation-functions-right/\n",
        "     *   https://keras.io/api/layers/activations/\n",
        "\n",
        "2.   Loss Function in Keras\n",
        "     *   https://neptune.ai/blog/keras-loss-functions\n",
        "     *   https://machinelearningmastery.com/how-to-choose-loss-functions-when-training-deep-learning-neural-networks/\n",
        "     *   https://keras.io/api/losses/\n",
        "     *   https://machinelearningmastery.com/how-to-choose-loss-functions-when-training-deep-learning-neural-networks/\n",
        "\n",
        "3.   Callback in Keras\n",
        "     * https://www.tensorflow.org/api_docs/python/tf/keras/callbacks/\n",
        "\n",
        "4.   Optimization in Keras\n",
        "     * https://keras.io/api/optimizers/ \n",
        "\n",
        "5.   Performance comparison\n",
        "     * https://shaoanlu.wordpress.com/2017/05/29/sgd-all-which-one-is-the-best-optimizer-dogs-vs-cats-toy-experiment/\n",
        "     * https://www.dlology.com/blog/quick-notes-on-how-to-choose-optimizer-in-keras/\n",
        "     * https://www.kaggle.com/c/human-protein-atlas-image-classification/discussion/70253\n",
        "\n"
      ]
    },
    {
      "cell_type": "markdown",
      "metadata": {
        "id": "dvJ4okkL4BVz"
      },
      "source": [
        "Berikut ini adalah tahap-tahap pengerjaan yang saya lakukan dalam memeroleh hasil dari Image Processing menggunakan CNN (*Convolutional Neural Network*)"
      ]
    },
    {
      "cell_type": "markdown",
      "metadata": {
        "id": "ynODMQpPW8tu"
      },
      "source": [
        "**Pertama**, mendownload file dari web dicoding dengan menggunakan utilitas `wget`"
      ]
    },
    {
      "cell_type": "code",
      "metadata": {
        "id": "v7gmOZAWtrTD",
        "outputId": "5906e406-91fe-4e2c-dedd-98344b6ce657",
        "colab": {
          "base_uri": "https://localhost:8080/"
        }
      },
      "source": [
        "!wget --no-check-certificate \\\n",
        "  https://dicodingacademy.blob.core.windows.net/picodiploma/ml_pemula_academy/rockpaperscissors.zip \\\n",
        "  -O /tmp/rockpaperscissors.zip"
      ],
      "execution_count": 1,
      "outputs": [
        {
          "output_type": "stream",
          "text": [
            "--2020-11-02 03:16:04--  https://dicodingacademy.blob.core.windows.net/picodiploma/ml_pemula_academy/rockpaperscissors.zip\n",
            "Resolving dicodingacademy.blob.core.windows.net (dicodingacademy.blob.core.windows.net)... 52.239.197.36\n",
            "Connecting to dicodingacademy.blob.core.windows.net (dicodingacademy.blob.core.windows.net)|52.239.197.36|:443... connected.\n",
            "HTTP request sent, awaiting response... 200 OK\n",
            "Length: 322873683 (308M) [application/zip]\n",
            "Saving to: ‘/tmp/rockpaperscissors.zip’\n",
            "\n",
            "/tmp/rockpapersciss 100%[===================>] 307.92M  24.9MB/s    in 13s     \n",
            "\n",
            "2020-11-02 03:16:17 (23.6 MB/s) - ‘/tmp/rockpaperscissors.zip’ saved [322873683/322873683]\n",
            "\n"
          ],
          "name": "stdout"
        }
      ]
    },
    {
      "cell_type": "markdown",
      "metadata": {
        "id": "aicDtAVnXGbI"
      },
      "source": [
        "**Kedua**, melakukan ekstraksi dari file yang didownload dengan menggunakan `zipfile`"
      ]
    },
    {
      "cell_type": "code",
      "metadata": {
        "id": "on8Gsccut4hn"
      },
      "source": [
        "import zipfile,os\n",
        "local_zip = '/tmp/rockpaperscissors.zip'\n",
        "zip_ref = zipfile.ZipFile(local_zip, 'r')\n",
        "zip_ref.extractall('/tmp')\n",
        "zip_ref.close()"
      ],
      "execution_count": 2,
      "outputs": []
    },
    {
      "cell_type": "markdown",
      "metadata": {
        "id": "UnUXREs-XTli"
      },
      "source": [
        "**Ketiga**, dengan menggunakan library tambahan yaitu `split-folder`, saya melakukan splitting dari file-file gambar menjadi training (`train`) dan validation (`val`) data. \n",
        "\n",
        "**Note:** referensi split saya dapat dari forum dicoding, saya rasa karena dari forum, bukan website luar, tidak apa-apa untuk diikuti"
      ]
    },
    {
      "cell_type": "code",
      "metadata": {
        "id": "3HbKvdJ8xg4g",
        "outputId": "2705fde1-ba42-416d-930f-98e2dd3ea7b3",
        "colab": {
          "base_uri": "https://localhost:8080/"
        }
      },
      "source": [
        "!pip install split-folders\n",
        "import splitfolders\n",
        "splitfolders.ratio('/tmp/rockpaperscissors/rps-cv-images', output='/tmp/rockpaperscissors/splitted', seed=1337, ratio=(.6, .4))"
      ],
      "execution_count": 3,
      "outputs": [
        {
          "output_type": "stream",
          "text": [
            "Collecting split-folders\n",
            "  Downloading https://files.pythonhosted.org/packages/b8/5f/3c2b2f7ea5e047c8cdc3bb00ae582c5438fcdbbedcc23b3cc1c2c7aae642/split_folders-0.4.3-py3-none-any.whl\n",
            "Installing collected packages: split-folders\n",
            "Successfully installed split-folders-0.4.3\n"
          ],
          "name": "stdout"
        },
        {
          "output_type": "stream",
          "text": [
            "Copying files: 2188 files [00:00, 3214.70 files/s]\n"
          ],
          "name": "stderr"
        }
      ]
    },
    {
      "cell_type": "markdown",
      "metadata": {
        "id": "eVQBG8DaYGVg"
      },
      "source": [
        "**Keempat**, saya mencatat direktori dari tiap tipe data, `train` dan `val` data"
      ]
    },
    {
      "cell_type": "code",
      "metadata": {
        "id": "RYcmKDZXuBEv",
        "outputId": "9539e53a-19ae-4e36-d22f-f90759ef4aad",
        "colab": {
          "base_uri": "https://localhost:8080/"
        }
      },
      "source": [
        "base_dir = '/tmp/rockpaperscissors/splitted'\n",
        "train_dir = os.path.join(base_dir, 'train')\n",
        "validation_dir = os.path.join(base_dir, 'val')\n",
        "print(train_dir)\n",
        "print(validation_dir)"
      ],
      "execution_count": 4,
      "outputs": [
        {
          "output_type": "stream",
          "text": [
            "/tmp/rockpaperscissors/splitted/train\n",
            "/tmp/rockpaperscissors/splitted/val\n"
          ],
          "name": "stdout"
        }
      ]
    },
    {
      "cell_type": "markdown",
      "metadata": {
        "id": "_tHb1z0kYSAb"
      },
      "source": [
        "**Kelima**, mencatat direktori dari tiap-tiap kategori gambar dan juga mencatat total file image di tiap segmennya, untuk berjaga semisal akan dibutuhkan kedepannya."
      ]
    },
    {
      "cell_type": "code",
      "metadata": {
        "id": "RWfP7CkUuJiv",
        "outputId": "26bdaaef-5e67-4637-97cf-2c5701adbe0b",
        "colab": {
          "base_uri": "https://localhost:8080/"
        }
      },
      "source": [
        "train_paper_dir = os.path.join(train_dir, 'paper')\n",
        "train_scissors_dir = os.path.join(train_dir, 'scissors')\n",
        "train_rock_dir = os.path.join(train_dir, 'rock')\n",
        "\n",
        "validation_paper_dir = os.path.join(validation_dir, 'paper')\n",
        "validation_scissors_dir = os.path.join(validation_dir, 'scissors')\n",
        "validation_rock_dir = os.path.join(validation_dir, 'rock')\n",
        "\n",
        "train_paper = len(os.listdir(train_paper_dir))\n",
        "train_scissors = len(os.listdir(train_scissors_dir))\n",
        "train_rock = len(os.listdir(train_rock_dir))\n",
        "\n",
        "validation_paper = len(os.listdir(validation_paper_dir))\n",
        "validation_scissors = len(os.listdir(validation_scissors_dir))\n",
        "validation_rock = len(os.listdir(validation_rock_dir))\n",
        "\n",
        "total_train = train_paper + train_scissors + train_rock\n",
        "total_validation = validation_paper + validation_scissors + validation_rock\n",
        "\n",
        "print(total_train)\n",
        "print(total_validation)"
      ],
      "execution_count": 5,
      "outputs": [
        {
          "output_type": "stream",
          "text": [
            "1312\n",
            "876\n"
          ],
          "name": "stdout"
        }
      ]
    },
    {
      "cell_type": "markdown",
      "metadata": {
        "id": "-1DVvWsgYveG"
      },
      "source": [
        "**Keenam**, pembuatan generator image dari gambar-gambar yang tersedia, dengan menggunakan `ImageDataGenerator` dari Keras. Fungsi dari image data generator ini adalah untuk membantu mengklasifikasikan suatu gambar ke kategoti tertentu karena pada gambar mungkin ada faktor tertentu yang membedakan tampilan (diluar karena perbedaan objek), seperti jarak/ukuran, orientasi, gradasi warna, dll.\n",
        "\n",
        "Disini kode yang digunakan kurang lebih seperti yang ada di modul `Latihan Membuat Model Klasifikasi Gambar` di kelas ini, namun memiliki beberapa tambahan pada generate image `train` yaitu\n",
        "\n",
        "1.   Shifting lebar dari gambar dengan range 0.2\n",
        "2.   Shifting tinggi dari gambar dengan range 0.2\n",
        "3.   Shifting zoom/perbesaran gambar dengan range 0.2\n",
        "\n"
      ]
    },
    {
      "cell_type": "code",
      "metadata": {
        "id": "-qJYcVJVztO1"
      },
      "source": [
        "import tensorflow as tf\n",
        "from tensorflow.keras.preprocessing.image import ImageDataGenerator\n",
        "\n",
        "train_datagen = ImageDataGenerator(\n",
        "                    rescale=1./255,\n",
        "                    rotation_range=20,\n",
        "                    shear_range=0.2,\n",
        "                    width_shift_range=0.2,\n",
        "                    height_shift_range=0.2,\n",
        "                    zoom_range=0.2,\n",
        "                    horizontal_flip=True,\n",
        "                    fill_mode = 'nearest'\n",
        "                  )\n",
        "\n",
        "test_datagen = ImageDataGenerator(\n",
        "                    rescale=1./255,\n",
        "                    rotation_range=20,\n",
        "                    shear_range=0.2,\n",
        "                    horizontal_flip=True,\n",
        "                    fill_mode = 'nearest'\n",
        "                  )"
      ],
      "execution_count": 6,
      "outputs": []
    },
    {
      "cell_type": "markdown",
      "metadata": {
        "id": "oPPl7qqb9BH7"
      },
      "source": [
        "**Keenam**, Membuat pengaturan dimensi image, class, dan juga flow dari transfer data image dalam pembuatan model di tiap batchnya.\n",
        "\n",
        "Disini kode yang digunakan kurang lebih seperti yang ada di modul `Latihan Membuat Model Klasifikasi Gambar` di kelas ini. Namun, terdapat penyesuaian size tiap batch-nya sekaligus `class_mode` nya.\n",
        "\n",
        "Flow diatur agar pada satu epoch seluruh data pada dataset termuat untuk fitting model, atau \n",
        "\n",
        "\n",
        "```\n",
        "   steps_per_epoch * batch_per_steps ~ total data\n",
        "```\n",
        "\n",
        "Selain itu gambar yang digenerate disetting agar memiliki dimensi `150x150`.\n",
        "\n"
      ]
    },
    {
      "cell_type": "code",
      "metadata": {
        "id": "qtfXlhNo3miH",
        "outputId": "100f8436-c591-4009-bb8a-67198b0fd914",
        "colab": {
          "base_uri": "https://localhost:8080/"
        }
      },
      "source": [
        "from math import ceil\n",
        "\n",
        "# Diasumsikan akan dibuat dibuat 25 step tiap epoch\n",
        "steps_per_epoch = 25\n",
        "\n",
        "# Maka berikut ini jumlah file di tiap flow\n",
        "train_per_batch = ceil(total_train/steps_per_epoch)\n",
        "val_per_batch = ceil(total_validation/steps_per_epoch)\n",
        "print(train_per_batch)\n",
        "print(val_per_batch)\n",
        "\n",
        "train_generator = train_datagen.flow_from_directory(\n",
        "                    train_dir,\n",
        "                    target_size=(150, 150),\n",
        "                    batch_size=train_per_batch,\n",
        "                    class_mode='categorical'\n",
        "                  )\n",
        " \n",
        "validation_generator = test_datagen.flow_from_directory(\n",
        "                          validation_dir,\n",
        "                          target_size=(150, 150),\n",
        "                          batch_size=val_per_batch,\n",
        "                          class_mode='categorical'\n",
        "                        )"
      ],
      "execution_count": 7,
      "outputs": [
        {
          "output_type": "stream",
          "text": [
            "53\n",
            "36\n",
            "Found 1312 images belonging to 3 classes.\n",
            "Found 876 images belonging to 3 classes.\n"
          ],
          "name": "stdout"
        }
      ]
    },
    {
      "cell_type": "markdown",
      "metadata": {
        "id": "vjjqtJVEYy5J"
      },
      "source": [
        "**Ketujuh**, membuat struktur dari CNN. CNN yang dibuat disini, sesuai spesifikasi menggunakan model sequensial, yang susunannya dibebaskan (asal memiliki > 1 hidden layer).\n",
        "\n",
        "Disini kode/model yang digunakan memiliki struktur dasar dari `Latihan Membuat Model Klasifikasi Gambar` di kelas ini. Namun, metode penulisan dibuat lebih modular dan juga secara umum dapat dijelaskan bahwa struktur CNN yang sequensial memiliki 1 layer input, 9 layer hidden, dan 1 layer output.\n",
        "\n",
        "Aksi yang dilakukan antara lain dapat diringkas sebagai berikut\n",
        "\n",
        "1.   Input (beririsan dengan convolution layer) meminta input sebesar `150x150` piksel.\n",
        "2.   Convolution layer untuk melakukan konvolusi katriks dari piksel gambar 2D dengan filters digunakan berturut 32, 64, 128, dan 256. Kernel size yang digunakan berukuran 3x3. Activation function adalah menggunakan `relu`, dengan alasan `relu` cukup ringan secara komputasi dan cukup baik dalam mengestimasi hidden layer\n",
        "3.   MaxPooling Layer untuk melakukan max pool elemen pada matriks dari piksel gambar, yaitu mengambil max value dari tiap submatriks.\n",
        "4. Dense Layer\n",
        "5. Flatten Layer untuk melakukan reduksi dimensi dari matriks piksel gambar.\n",
        "6. Sebelumnya digunakan dropout layer untuk melakukan deaktivasi layer secara random guna menghindari overfitting, namun karena yang ingin dicapai adalah akurasi tertinggi maka layer ini dihilangkan.\n",
        "7. Output layer guna mengeluarkan hasil akhir, pada layer ini digunakan activation function yang berbeda. Dari explorasi sumber dan experimen langsung, ditemukan activation function yang baik adalah `softmax` dan `sigmoid`, namun karena `softmax` sedikit lebih baik (khusus untuk activation akhir/output dan juga bisa identifikasi kelas) maka digunakan `softmax`.\n",
        "\n",
        "\n"
      ]
    },
    {
      "cell_type": "code",
      "metadata": {
        "id": "CiIN4TTi4Ysn"
      },
      "source": [
        "from keras.models import Sequential\n",
        "from keras.layers import Conv2D, MaxPooling2D\n",
        "from keras.layers import Activation, Dropout, Flatten, Dense\n",
        "\n",
        "model = Sequential(name=\"simple_sequential\")\n",
        "model.add(Conv2D(32, (3,3), activation = 'relu', input_shape= (150,150,3)))\n",
        "model.add(MaxPooling2D(2,2))\n",
        "model.add(Conv2D(64,(3,3), activation= 'relu'))\n",
        "model.add(MaxPooling2D(2,2))\n",
        "model.add(Conv2D(128,(3,3), activation= 'relu'))\n",
        "model.add(MaxPooling2D(2,2))\n",
        "model.add(Conv2D(256,(3,3), activation= 'relu'))\n",
        "model.add(MaxPooling2D(2,2))\n",
        "model.add(Dense(512, activation= 'relu'))\n",
        "model.add(Flatten())\n",
        "model.add(Dense(3, activation= 'softmax'))\n",
        "\n",
        "# Sebagai alternatif ingin menggunakan sigmoid, bukan softmax ganti \n",
        "# baris kode diatas dengan baris kode berikut \n",
        "\n",
        "# model.add(Dense(3, activation= 'sigmoid'))"
      ],
      "execution_count": 8,
      "outputs": []
    },
    {
      "cell_type": "markdown",
      "metadata": {
        "id": "oIxTkLrcY684"
      },
      "source": [
        "**Kedelapan**, menggunakan `model.compile()` untuk melakukan setting sebelum melakukan ftting dari model kita, disini digunakan beberapa bonus yang tidak dijelaskan secara mendalam di kelas, yaitu \n",
        "\n",
        "\n",
        "1.   Loss function, terkait dengan cost atau dengan kata lain nilai objektif dari pembelajaran algoritma CNN. Dari referensi diatas dan eksperimen diperoleh loss function yang baik dan sesuai dengan use case,\n",
        "     * `categorical_crossentropy`, secara umum digunakan untuk kategorisasi objek yang memiliki beberapa kelas klasifikasi (> 2) namun tetap lingkupnya diskrit. \n",
        "     * `SigmoidFocalCrossEntropy`, secara khusus digunakan untuk image classification\n",
        "     <p> Namun berdasarkan eksperimen, lebih tinggi akurasi dengan menggunakan `categorical_crossentropy`, maka loss function inilah yang akan lebih diprefer untuk kasus ini sekaligus digunakan sebagai example. </p>\n",
        "2.   Optimizer, guna mengpotimasi algortima, berdasar sumber diatas dan eksperimen, diperoleh alternatif optimizer function yang baik adalah\n",
        "     * `Adam` + AMSGrad (paling stabil dan rata-rata paling tinggi)\n",
        "     * `Adam` *no tuning*\n",
        "     * `SGD` + Momentum\n",
        "     * `SGD` + Momentum + Nesterov (secara rata-rata lebih jelek, namun terkadang bisa lumayan tinggi)\n",
        "     * `RMSProp`\n",
        "<p>Karena pertimbangan diatas, maka saya akan mencontohkan dengan menggunakan Adam + tuning AMSGrad.</p> \n",
        "3.   Metrics, yakni hal yang ingin menjadi pertimbangan dan ditampilkan saat proses fitting. Oleh karena yang diminta adalah accuracy, maka metric hanya diisi dengan accuracy. \n",
        "\n"
      ]
    },
    {
      "cell_type": "code",
      "metadata": {
        "id": "QJk0tuG6IH_o"
      },
      "source": [
        "from tensorflow_addons.losses import SigmoidFocalCrossEntropy\n",
        "from keras.optimizers import SGD, Adam\n",
        "\n",
        "loss = 'categorical_crossentropy'\n",
        "\n",
        "# Untuk opsi lain dari loss, ganti dengan salah satu loss dibawah ini\n",
        "\n",
        "# loss = SigmoidFocalCrossEntropy()\n",
        "\n",
        "opt = Adam(amsgrad=True, lr=0.001)\n",
        "\n",
        "# Untuk opsi lain dari optimizer, ganti dengan salah satu opt dibawah ini\n",
        "\n",
        "# opt = SGD(\n",
        "#     lr=0.01, momentum=0.9, nesterov=False\n",
        "# )\n",
        "\n",
        "# opt = 'rmsprop'\n",
        "\n",
        "# opt = Adam()\n",
        "\n",
        "model.compile(loss=loss,\n",
        "              optimizer=opt,\n",
        "              metrics=['accuracy'])"
      ],
      "execution_count": 9,
      "outputs": []
    },
    {
      "cell_type": "markdown",
      "metadata": {
        "id": "2UDyUzlPgklt"
      },
      "source": [
        "**Kesembilan**, dilakukan fitting model dengan method `model.fit()`, disini juga dilakukan komputasi waktu training model dengan library bawaan `time`. Berikut ini juga dirinci beberapa konfigurasi pada fitting dan juga ada beberapa yang tidak diajarkan di kelas, \n",
        "\n",
        "\n",
        "1.   Steps atau langkah yang dilakukan tiap epoch sebanyak 25 (lihat langkah pengerjaan keenam)\n",
        "2.   Epoch untuk training data sebanyak 20\n",
        "3.   Validation step dan verbose berturut-turn 5 dan 2\n",
        "4.   Digunakan callback bawaan dari keras yang memiliki fungsi\n",
        "     * `EarlyStopping`, berfungsi untuk menghentikan lebih awal jika setelah N turn hasil yang didapatkan tidak membaik, disini disetting N = 4 dan juga mengembalikan nilai terbaik.\n",
        "     * `ReduceLROnPlateau`, berfungsi untuk mengurangi parameter *Learning Rate* dari algoritma saat berada di *Plateau* (sekitar puncak lokal) untuk menghindari penurunan akurasi secara curam, disini diatur `patience` sebesar 2.\n",
        "\n",
        "\n",
        "\n"
      ]
    },
    {
      "cell_type": "code",
      "metadata": {
        "id": "O8A30LlQIRln",
        "outputId": "a364ca3e-0494-431b-d66f-b0f2deddf408",
        "colab": {
          "base_uri": "https://localhost:8080/"
        }
      },
      "source": [
        "from time import time\n",
        "from keras.callbacks import EarlyStopping, ReduceLROnPlateau\n",
        "\n",
        "start_time = time()\n",
        "schema = model.fit(\n",
        "        train_generator,\n",
        "        steps_per_epoch=steps_per_epoch,\n",
        "        epochs=20,\n",
        "        validation_data=validation_generator,\n",
        "        validation_steps=5,\n",
        "        verbose=2,\n",
        "        callbacks=[\n",
        "           EarlyStopping(patience=4, restore_best_weights=True),\n",
        "           ReduceLROnPlateau(patience=2)\n",
        "        ]\n",
        "      )\n",
        "print(\"--- Finished in %s seconds ---\" % (time() - start_time))"
      ],
      "execution_count": 10,
      "outputs": [
        {
          "output_type": "stream",
          "text": [
            "Epoch 1/20\n",
            "25/25 - 68s - loss: 1.0781 - accuracy: 0.4245 - val_loss: 0.8487 - val_accuracy: 0.7222\n",
            "Epoch 2/20\n",
            "25/25 - 67s - loss: 0.8454 - accuracy: 0.6212 - val_loss: 0.4229 - val_accuracy: 0.8111\n",
            "Epoch 3/20\n",
            "25/25 - 67s - loss: 0.5725 - accuracy: 0.7835 - val_loss: 0.2942 - val_accuracy: 0.9056\n",
            "Epoch 4/20\n",
            "25/25 - 70s - loss: 0.4439 - accuracy: 0.8476 - val_loss: 0.3038 - val_accuracy: 0.9000\n",
            "Epoch 5/20\n",
            "25/25 - 68s - loss: 0.4528 - accuracy: 0.8232 - val_loss: 0.1784 - val_accuracy: 0.9722\n",
            "Epoch 6/20\n",
            "25/25 - 67s - loss: 0.3656 - accuracy: 0.8575 - val_loss: 0.1929 - val_accuracy: 0.9500\n",
            "Epoch 7/20\n",
            "25/25 - 67s - loss: 0.3615 - accuracy: 0.8681 - val_loss: 0.1462 - val_accuracy: 0.9667\n",
            "Epoch 8/20\n",
            "25/25 - 67s - loss: 0.2803 - accuracy: 0.9024 - val_loss: 0.1410 - val_accuracy: 0.9611\n",
            "Epoch 9/20\n",
            "25/25 - 67s - loss: 0.2654 - accuracy: 0.9146 - val_loss: 0.1347 - val_accuracy: 0.9611\n",
            "Epoch 10/20\n",
            "25/25 - 67s - loss: 0.2302 - accuracy: 0.9207 - val_loss: 0.0975 - val_accuracy: 0.9778\n",
            "Epoch 11/20\n",
            "25/25 - 68s - loss: 0.2088 - accuracy: 0.9284 - val_loss: 0.2088 - val_accuracy: 0.9444\n",
            "Epoch 12/20\n",
            "25/25 - 70s - loss: 0.1581 - accuracy: 0.9550 - val_loss: 0.1077 - val_accuracy: 0.9778\n",
            "Epoch 13/20\n",
            "25/25 - 67s - loss: 0.0967 - accuracy: 0.9748 - val_loss: 0.0600 - val_accuracy: 0.9833\n",
            "Epoch 14/20\n",
            "25/25 - 67s - loss: 0.0974 - accuracy: 0.9764 - val_loss: 0.0669 - val_accuracy: 0.9833\n",
            "Epoch 15/20\n",
            "25/25 - 68s - loss: 0.0790 - accuracy: 0.9787 - val_loss: 0.0453 - val_accuracy: 0.9889\n",
            "Epoch 16/20\n",
            "25/25 - 67s - loss: 0.0806 - accuracy: 0.9825 - val_loss: 0.0419 - val_accuracy: 0.9889\n",
            "Epoch 17/20\n",
            "25/25 - 67s - loss: 0.0626 - accuracy: 0.9840 - val_loss: 0.0296 - val_accuracy: 0.9889\n",
            "Epoch 18/20\n",
            "25/25 - 67s - loss: 0.0793 - accuracy: 0.9817 - val_loss: 0.0106 - val_accuracy: 1.0000\n",
            "Epoch 19/20\n",
            "25/25 - 67s - loss: 0.0699 - accuracy: 0.9809 - val_loss: 0.0474 - val_accuracy: 0.9778\n",
            "Epoch 20/20\n",
            "25/25 - 67s - loss: 0.0660 - accuracy: 0.9809 - val_loss: 0.0233 - val_accuracy: 0.9944\n",
            "--- Finished in 1414.6494007110596 seconds ---\n"
          ],
          "name": "stdout"
        }
      ]
    },
    {
      "cell_type": "markdown",
      "metadata": {
        "id": "V7VS2iLog7aZ"
      },
      "source": [
        "Dari sini, didapati akurasi terbaik sebesar **100%** dan sebesar **99.44%** di akhir pada `val` data, sedangkan akurasi terbaik sebesar **98.40%** dan sebesar **98.09%** di akhir pada `train` data. Untuk waktu eksekusi, training dan validasi data memakan waktu selama **1415 s** ~ **24 min**"
      ]
    },
    {
      "cell_type": "markdown",
      "metadata": {
        "id": "UjwHrefXBbT1"
      },
      "source": [
        "**Kesepuluh**, semisal anda ingin mencoba memasukkan untuk menguji suatu image tangan guna diklasifikasikan ke dalam salah satu kategori (paper, rock, scissors) dapat digunakan kode berikut.\n",
        "\n",
        "Disini adalah sedikit modifikasi dari kode di modul `Latihan Membuat Model Klasifikasi Gambar` di kelas ini, namun memiliki beberapa modifikasi karena ini klasifikasi kategorikal."
      ]
    },
    {
      "cell_type": "code",
      "metadata": {
        "id": "IMbRbv-Og1q_",
        "outputId": "8449efca-8be5-403e-a031-85f9df02c346",
        "colab": {
          "resources": {
            "http://localhost:8080/nbextensions/google.colab/files.js": {
              "data": "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",
              "ok": true,
              "headers": [
                [
                  "content-type",
                  "application/javascript"
                ]
              ],
              "status": 200,
              "status_text": ""
            }
          },
          "base_uri": "https://localhost:8080/",
          "height": 342
        }
      },
      "source": [
        "import numpy as np\n",
        "from google.colab import files\n",
        "from keras.preprocessing import image\n",
        "import matplotlib.pyplot as plt\n",
        "import matplotlib.image as mpimg\n",
        "%matplotlib inline\n",
        " \n",
        "uploaded = files.upload()\n",
        " \n",
        "for fn in uploaded.keys():\n",
        "  path = fn\n",
        "  img = image.load_img(path, target_size=(150,150))\n",
        "  imgplot = plt.imshow(img)\n",
        "  x = image.img_to_array(img)\n",
        "  x = np.expand_dims(x, axis=0)\n",
        " \n",
        "  images = np.vstack([x])\n",
        "  classes = model.predict(images, batch_size=10)\n",
        "  \n",
        "  if(classes[0][0] == 1):\n",
        "    print('paper')\n",
        "  elif(classes[0][1] == 1):\n",
        "    print('rock')\n",
        "  else:\n",
        "    print('scissors')"
      ],
      "execution_count": 12,
      "outputs": [
        {
          "output_type": "display_data",
          "data": {
            "text/html": [
              "\n",
              "     <input type=\"file\" id=\"files-4bc0ae41-0f5a-4c96-a865-dac2fcf88ffa\" name=\"files[]\" multiple disabled\n",
              "        style=\"border:none\" />\n",
              "     <output id=\"result-4bc0ae41-0f5a-4c96-a865-dac2fcf88ffa\">\n",
              "      Upload widget is only available when the cell has been executed in the\n",
              "      current browser session. Please rerun this cell to enable.\n",
              "      </output>\n",
              "      <script src=\"/nbextensions/google.colab/files.js\"></script> "
            ],
            "text/plain": [
              "<IPython.core.display.HTML object>"
            ]
          },
          "metadata": {
            "tags": []
          }
        },
        {
          "output_type": "stream",
          "text": [
            "Saving 2F8Ng7620ANA7tEK.png to 2F8Ng7620ANA7tEK.png\n",
            "paper\n"
          ],
          "name": "stdout"
        },
        {
          "output_type": "display_data",
          "data": {
            "image/png": "[encoded data removed]",
            "text/plain": [
              "<Figure size 432x288 with 1 Axes>"
            ]
          },
          "metadata": {
            "tags": [],
            "needs_background": "light"
          }
        }
      ]
    },
    {
      "cell_type": "markdown",
      "metadata": {
        "id": "Lqsr_lHlFHqh"
      },
      "source": [
        "Dapat dilihat posisi tangan berhasil ditebak dengan menggunakan model CNN."
      ]
    }
  ]
}