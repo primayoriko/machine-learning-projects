{
 "cells": [
  {
   "cell_type": "code",
   "execution_count": 1,
   "metadata": {
    "colab": {
     "base_uri": "https://localhost:8080/"
    },
    "id": "cWM_Y3yFtasR",
    "outputId": "022f3880-f9e8-48ed-b098-c5f38b058158"
   },
   "outputs": [
    {
     "name": "stdout",
     "output_type": "stream",
     "text": [
      "2.3.0\n"
     ]
    }
   ],
   "source": [
    "import tensorflow as tf\n",
    "print(tf.__version__)\n"
   ]
  },
  {
   "cell_type": "code",
   "execution_count": 2,
   "metadata": {
    "colab": {
     "base_uri": "https://localhost:8080/"
    },
    "id": "v7gmOZAWtrTD",
    "outputId": "7b928f85-8cc1-4c46-f621-8756cba2875d"
   },
   "outputs": [
    {
     "name": "stdout",
     "output_type": "stream",
     "text": [
      "--2020-10-31 08:12:57--  https://dicodingacademy.blob.core.windows.net/picodiploma/ml_pemula_academy/rockpaperscissors.zip\n",
      "Resolving dicodingacademy.blob.core.windows.net (dicodingacademy.blob.core.windows.net)... 52.239.197.36\n",
      "Connecting to dicodingacademy.blob.core.windows.net (dicodingacademy.blob.core.windows.net)|52.239.197.36|:443... connected.\n",
      "HTTP request sent, awaiting response... 200 OK\n",
      "Length: 322873683 (308M) [application/zip]\n",
      "Saving to: ‘/tmp/rockpaperscissors.zip’\n",
      "\n",
      "/tmp/rockpapersciss 100%[===================>] 307.92M  5.32MB/s    in 95s     \n",
      "\n",
      "2020-10-31 08:14:32 (3.25 MB/s) - ‘/tmp/rockpaperscissors.zip’ saved [322873683/322873683]\n",
      "\n"
     ]
    }
   ],
   "source": [
    "!wget --no-check-certificate \\\n",
    "  https://dicodingacademy.blob.core.windows.net/picodiploma/ml_pemula_academy/rockpaperscissors.zip \\\n",
    "  -O /tmp/rockpaperscissors.zip"
   ]
  },
  {
   "cell_type": "code",
   "execution_count": 4,
   "metadata": {
    "id": "on8Gsccut4hn"
   },
   "outputs": [],
   "source": [
    "import zipfile,os\n",
    "local_zip = '/tmp/rockpaperscissors.zip'\n",
    "zip_ref = zipfile.ZipFile(local_zip, 'r')\n",
    "zip_ref.extractall('/tmp')\n",
    "zip_ref.close()"
   ]
  },
  {
   "cell_type": "code",
   "execution_count": 5,
   "metadata": {
    "colab": {
     "base_uri": "https://localhost:8080/"
    },
    "id": "SbY_cY-DxTzs",
    "outputId": "e8c16232-bf9d-4452-92e0-1944aa5e814b"
   },
   "outputs": [
    {
     "name": "stdout",
     "output_type": "stream",
     "text": [
      "Collecting split-folders\n",
      "  Downloading https://files.pythonhosted.org/packages/d1/4b/7b282b0f9319189d71e803220748929b37d019b67b1782d14c59cb1bd940/split_folders-0.4.2-py3-none-any.whl\n",
      "Installing collected packages: split-folders\n",
      "Successfully installed split-folders-0.4.2\n"
     ]
    }
   ],
   "source": [
    "!pip install split-folders"
   ]
  },
  {
   "cell_type": "code",
   "execution_count": 9,
   "metadata": {
    "colab": {
     "base_uri": "https://localhost:8080/"
    },
    "id": "3HbKvdJ8xg4g",
    "outputId": "0808a1dc-71fb-4a10-8945-507799eee8ee"
   },
   "outputs": [
    {
     "name": "stderr",
     "output_type": "stream",
     "text": [
      "Copying files: 2188 files [00:00, 3031.76 files/s]\n"
     ]
    }
   ],
   "source": [
    "import splitfolders\n",
    "splitfolders.ratio('/tmp/rockpaperscissors/rps-cv-images', output='/tmp/rockpaperscissors/splitted', seed=1337, ratio=(.6, .4))"
   ]
  },
  {
   "cell_type": "code",
   "execution_count": 11,
   "metadata": {
    "id": "RYcmKDZXuBEv"
   },
   "outputs": [],
   "source": [
    "base_dir = '/tmp/rockpaperscissors/splitted'\n",
    "train_dir = os.path.join(base_dir, 'train')\n",
    "validation_dir = os.path.join(base_dir, 'val')"
   ]
  },
  {
   "cell_type": "code",
   "execution_count": 12,
   "metadata": {
    "colab": {
     "base_uri": "https://localhost:8080/"
    },
    "id": "fleLdZkny_qU",
    "outputId": "f818f6f3-04cc-4701-dcbd-f65cccbcad33"
   },
   "outputs": [
    {
     "name": "stdout",
     "output_type": "stream",
     "text": [
      "/tmp/rockpaperscissors/splitted/train\n",
      "/tmp/rockpaperscissors/splitted/val\n"
     ]
    }
   ],
   "source": [
    "print(train_dir)\n",
    "print(validation_dir)"
   ]
  },
  {
   "cell_type": "code",
   "execution_count": 13,
   "metadata": {
    "id": "RWfP7CkUuJiv"
   },
   "outputs": [],
   "source": [
    "train_paper_dir = os.path.join(train_dir, 'paper')\n",
    "train_scissor_dir = os.path.join(train_dir, 'scissor')\n",
    "train_rock_dir = os.path.join(train_dir, 'rock')\n",
    "\n",
    "validation_paper_dir = os.path.join(validation_dir, 'paper')\n",
    "validation_scissor_dir = os.path.join(validation_dir, 'scissor')\n",
    "validation_rock_dir = os.path.join(validation_dir, 'rock')"
   ]
  },
  {
   "cell_type": "code",
   "execution_count": 14,
   "metadata": {
    "id": "JG9EFa9nzjOw"
   },
   "outputs": [],
   "source": [
    "from tensorflow.keras.preprocessing.image import ImageDataGenerator"
   ]
  },
  {
   "cell_type": "code",
   "execution_count": 15,
   "metadata": {
    "id": "-qJYcVJVztO1"
   },
   "outputs": [],
   "source": [
    "train_datagen = ImageDataGenerator(\n",
    "                    rescale=1./255,\n",
    "                    rotation_range=20,\n",
    "                    horizontal_flip=True,\n",
    "                    shear_range = 0.2,\n",
    "                    fill_mode = 'nearest')\n",
    " \n",
    "test_datagen = ImageDataGenerator(\n",
    "                    rescale=1./255,\n",
    "                    rotation_range=20,\n",
    "                    horizontal_flip=True,\n",
    "                    shear_range = 0.2,\n",
    "                    fill_mode = 'nearest')"
   ]
  },
  {
   "cell_type": "code",
   "execution_count": 17,
   "metadata": {
    "colab": {
     "base_uri": "https://localhost:8080/"
    },
    "id": "qtfXlhNo3miH",
    "outputId": "bb74f7c3-0311-427d-bfe6-295e21f819dd"
   },
   "outputs": [
    {
     "name": "stdout",
     "output_type": "stream",
     "text": [
      "Found 1312 images belonging to 3 classes.\n",
      "Found 876 images belonging to 3 classes.\n"
     ]
    }
   ],
   "source": [
    "train_generator = train_datagen.flow_from_directory(\n",
    "        train_dir,\n",
    "        target_size=(150, 150),\n",
    "        batch_size=20,\n",
    "        class_mode='categorical')\n",
    " \n",
    "validation_generator = test_datagen.flow_from_directory(\n",
    "        validation_dir,\n",
    "        target_size=(150, 150),\n",
    "        batch_size=20,\n",
    "        class_mode='categorical')"
   ]
  },
  {
   "cell_type": "code",
   "execution_count": 18,
   "metadata": {
    "id": "CiIN4TTi4Ysn"
   },
   "outputs": [],
   "source": [
    "model = tf.keras.models.Sequential([\n",
    "    tf.keras.layers.Conv2D(32, (3,3), activation='relu', input_shape=(150, 150, 3)),\n",
    "    tf.keras.layers.MaxPooling2D(2, 2),\n",
    "    tf.keras.layers.Conv2D(64, (3,3), activation='relu'),\n",
    "    tf.keras.layers.MaxPooling2D(2,2),\n",
    "    tf.keras.layers.Conv2D(128, (3,3), activation='relu'),\n",
    "    tf.keras.layers.MaxPooling2D(2,2),\n",
    "    tf.keras.layers.Conv2D(128, (3,3), activation='relu'),\n",
    "    tf.keras.layers.MaxPooling2D(2,2),\n",
    "    tf.keras.layers.Flatten(),\n",
    "    tf.keras.layers.Dense(512, activation='relu'),\n",
    "    tf.keras.layers.Dense(1, activation='sigmoid')\n",
    "])"
   ]
  },
  {
   "cell_type": "code",
   "execution_count": null,
   "metadata": {
    "id": "024iEe8Q9fpR"
   },
   "outputs": [],
   "source": []
  },
  {
   "cell_type": "code",
   "execution_count": 19,
   "metadata": {
    "id": "7Cs4qrZa7P3k"
   },
   "outputs": [],
   "source": [
    "model.compile(loss='binary_crossentropy',\n",
    "              optimizer=tf.optimizers.Adam(),\n",
    "              metrics=['accuracy'])"
   ]
  },
  {
   "cell_type": "code",
   "execution_count": null,
   "metadata": {
    "colab": {
     "base_uri": "https://localhost:8080/"
    },
    "id": "Fzm56W_z7WGr",
    "outputId": "a26aa6b5-7c95-4a6e-9d53-9ab33e11ea62"
   },
   "outputs": [
    {
     "name": "stdout",
     "output_type": "stream",
     "text": [
      "Epoch 1/20\n",
      "25/25 - 25s - loss: 0.6623 - accuracy: 0.6667 - val_loss: 0.6374 - val_accuracy: 0.6667\n",
      "Epoch 2/20\n",
      "25/25 - 24s - loss: 0.6369 - accuracy: 0.6667 - val_loss: 0.6368 - val_accuracy: 0.6667\n",
      "Epoch 3/20\n",
      "25/25 - 24s - loss: 0.6367 - accuracy: 0.6667 - val_loss: 0.6367 - val_accuracy: 0.6667\n",
      "Epoch 4/20\n",
      "25/25 - 25s - loss: 0.6366 - accuracy: 0.6667 - val_loss: 0.6366 - val_accuracy: 0.6667\n",
      "Epoch 5/20\n",
      "25/25 - 25s - loss: 0.6366 - accuracy: 0.6667 - val_loss: 0.6366 - val_accuracy: 0.6667\n",
      "Epoch 6/20\n",
      "25/25 - 25s - loss: 0.6366 - accuracy: 0.6667 - val_loss: 0.6366 - val_accuracy: 0.6667\n",
      "Epoch 7/20\n",
      "25/25 - 25s - loss: 0.6366 - accuracy: 0.6667 - val_loss: 0.6366 - val_accuracy: 0.6667\n",
      "Epoch 8/20\n",
      "25/25 - 25s - loss: 0.6366 - accuracy: 0.6667 - val_loss: 0.6366 - val_accuracy: 0.6667\n",
      "Epoch 9/20\n",
      "25/25 - 25s - loss: 0.6366 - accuracy: 0.6667 - val_loss: 0.6365 - val_accuracy: 0.6667\n",
      "Epoch 10/20\n",
      "25/25 - 25s - loss: 0.6365 - accuracy: 0.6667 - val_loss: 0.6366 - val_accuracy: 0.6667\n",
      "Epoch 11/20\n",
      "25/25 - 25s - loss: 0.6365 - accuracy: 0.6667 - val_loss: 0.6365 - val_accuracy: 0.6667\n",
      "Epoch 12/20\n",
      "25/25 - 25s - loss: 0.6365 - accuracy: 0.6667 - val_loss: 0.6365 - val_accuracy: 0.6667\n",
      "Epoch 13/20\n",
      "25/25 - 25s - loss: 0.6365 - accuracy: 0.6667 - val_loss: 0.6365 - val_accuracy: 0.6667\n",
      "Epoch 14/20\n",
      "25/25 - 24s - loss: 0.6365 - accuracy: 0.6667 - val_loss: 0.6365 - val_accuracy: 0.6667\n",
      "Epoch 15/20\n",
      "25/25 - 25s - loss: 0.6365 - accuracy: 0.6667 - val_loss: 0.6366 - val_accuracy: 0.6667\n",
      "Epoch 16/20\n",
      "25/25 - 24s - loss: 0.6365 - accuracy: 0.6667 - val_loss: 0.6365 - val_accuracy: 0.6667\n",
      "Epoch 17/20\n",
      "25/25 - 25s - loss: 0.6365 - accuracy: 0.6667 - val_loss: 0.6365 - val_accuracy: 0.6667\n",
      "Epoch 18/20\n",
      "25/25 - 25s - loss: 0.6365 - accuracy: 0.6667 - val_loss: 0.6365 - val_accuracy: 0.6667\n",
      "Epoch 19/20\n"
     ]
    }
   ],
   "source": [
    "import time\n",
    "start_time = time.time()\n",
    "model.fit(\n",
    "      train_generator,\n",
    "      steps_per_epoch=25,\n",
    "      epochs=20,\n",
    "      validation_data=validation_generator,\n",
    "      validation_steps=5,\n",
    "      verbose=2)\n",
    "print(\"--- %s seconds ---\" % (time.time() - start_time))"
   ]
  }
 ],
 "metadata": {
  "colab": {
   "collapsed_sections": [],
   "name": "dicoding_ml.ipynb",
   "provenance": []
  },
  "kernelspec": {
   "display_name": "Python 3",
   "language": "python",
   "name": "python3"
  },
  "language_info": {
   "codemirror_mode": {
    "name": "ipython",
    "version": 3
   },
   "file_extension": ".py",
   "mimetype": "text/x-python",
   "name": "python",
   "nbconvert_exporter": "python",
   "pygments_lexer": "ipython3",
   "version": "3.7.6"
  }
 },
 "nbformat": 4,
 "nbformat_minor": 1
}
