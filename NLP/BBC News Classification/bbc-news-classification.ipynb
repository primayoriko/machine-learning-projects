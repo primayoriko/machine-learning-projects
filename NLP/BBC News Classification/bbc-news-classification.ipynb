{
  "nbformat": 4,
  "nbformat_minor": 0,
  "metadata": {
    "colab": {
      "name": "primayoriko_NLP_dicoding2.ipynb",
      "provenance": [],
      "collapsed_sections": []
    },
    "kernelspec": {
      "name": "python3",
      "display_name": "Python 3"
    },
    "language_info": {
      "name": "python"
    }
  },
  "cells": [
    {
      "cell_type": "markdown",
      "metadata": {
        "id": "aUJYslczgh9M"
      },
      "source": [
        "# **BBC News Classification**\n",
        "\n",
        "-------\n",
        "\n",
        "Name: Naufal Prima Yoriko <br/>\n",
        "Email: primayoriko@gmail.com <br/>"
      ]
    },
    {
      "cell_type": "markdown",
      "metadata": {
        "id": "Rl3HZbF1j0DG"
      },
      "source": [
        "# **A. Import Data**"
      ]
    },
    {
      "cell_type": "code",
      "metadata": {
        "colab": {
          "base_uri": "https://localhost:8080/"
        },
        "id": "pMDEFbaWgIX6",
        "outputId": "f9bc9144-4a5d-4ee8-af19-0eb769a5725d"
      },
      "source": [
        "# import data\n",
        "!wget --no-check-certificate https://storage.googleapis.com/dataset-uploader/bbc/bbc-text.csv -O ./bbc-text.csv"
      ],
      "execution_count": 27,
      "outputs": [
        {
          "output_type": "stream",
          "text": [
            "--2021-06-16 06:57:45--  https://storage.googleapis.com/dataset-uploader/bbc/bbc-text.csv\n",
            "Resolving storage.googleapis.com (storage.googleapis.com)... 173.194.218.128, 64.233.170.128, 108.177.11.128, ...\n",
            "Connecting to storage.googleapis.com (storage.googleapis.com)|173.194.218.128|:443... connected.\n",
            "HTTP request sent, awaiting response... 200 OK\n",
            "Length: 5057493 (4.8M) [text/csv]\n",
            "Saving to: ‘./bbc-text.csv’\n",
            "\n",
            "\r./bbc-text.csv        0%[                    ]       0  --.-KB/s               \r./bbc-text.csv      100%[===================>]   4.82M  --.-KB/s    in 0.02s   \n",
            "\n",
            "2021-06-16 06:57:45 (216 MB/s) - ‘./bbc-text.csv’ saved [5057493/5057493]\n",
            "\n"
          ],
          "name": "stdout"
        }
      ]
    },
    {
      "cell_type": "code",
      "metadata": {
        "colab": {
          "base_uri": "https://localhost:8080/"
        },
        "id": "5bgh59lfghqv",
        "outputId": "caa92b66-09a0-4e1a-b9bb-53c31f2b3321"
      },
      "source": [
        "!ls"
      ],
      "execution_count": 28,
      "outputs": [
        {
          "output_type": "stream",
          "text": [
            "bbc-text.csv  sample_data\n"
          ],
          "name": "stdout"
        }
      ]
    },
    {
      "cell_type": "code",
      "metadata": {
        "id": "Z8EjAgd2lNR2"
      },
      "source": [
        "# Load data\n",
        "import pandas as pd\n",
        "\n",
        "df = pd.read_csv('bbc-text.csv')"
      ],
      "execution_count": 29,
      "outputs": []
    },
    {
      "cell_type": "markdown",
      "metadata": {
        "id": "Rh7ro-tmkKc4"
      },
      "source": [
        "# **B. Data Description**"
      ]
    },
    {
      "cell_type": "code",
      "metadata": {
        "colab": {
          "base_uri": "https://localhost:8080/",
          "height": 206
        },
        "id": "g9lzkAFwlRhL",
        "outputId": "4330f3aa-5c9d-4403-9e09-0a4f557abd65"
      },
      "source": [
        "df.head()"
      ],
      "execution_count": 30,
      "outputs": [
        {
          "output_type": "execute_result",
          "data": {
            "text/html": [
              "<div>\n",
              "<style scoped>\n",
              "    .dataframe tbody tr th:only-of-type {\n",
              "        vertical-align: middle;\n",
              "    }\n",
              "\n",
              "    .dataframe tbody tr th {\n",
              "        vertical-align: top;\n",
              "    }\n",
              "\n",
              "    .dataframe thead th {\n",
              "        text-align: right;\n",
              "    }\n",
              "</style>\n",
              "<table border=\"1\" class=\"dataframe\">\n",
              "  <thead>\n",
              "    <tr style=\"text-align: right;\">\n",
              "      <th></th>\n",
              "      <th>category</th>\n",
              "      <th>text</th>\n",
              "    </tr>\n",
              "  </thead>\n",
              "  <tbody>\n",
              "    <tr>\n",
              "      <th>0</th>\n",
              "      <td>tech</td>\n",
              "      <td>tv future in the hands of viewers with home th...</td>\n",
              "    </tr>\n",
              "    <tr>\n",
              "      <th>1</th>\n",
              "      <td>business</td>\n",
              "      <td>worldcom boss  left books alone  former worldc...</td>\n",
              "    </tr>\n",
              "    <tr>\n",
              "      <th>2</th>\n",
              "      <td>sport</td>\n",
              "      <td>tigers wary of farrell  gamble  leicester say ...</td>\n",
              "    </tr>\n",
              "    <tr>\n",
              "      <th>3</th>\n",
              "      <td>sport</td>\n",
              "      <td>yeading face newcastle in fa cup premiership s...</td>\n",
              "    </tr>\n",
              "    <tr>\n",
              "      <th>4</th>\n",
              "      <td>entertainment</td>\n",
              "      <td>ocean s twelve raids box office ocean s twelve...</td>\n",
              "    </tr>\n",
              "  </tbody>\n",
              "</table>\n",
              "</div>"
            ],
            "text/plain": [
              "        category                                               text\n",
              "0           tech  tv future in the hands of viewers with home th...\n",
              "1       business  worldcom boss  left books alone  former worldc...\n",
              "2          sport  tigers wary of farrell  gamble  leicester say ...\n",
              "3          sport  yeading face newcastle in fa cup premiership s...\n",
              "4  entertainment  ocean s twelve raids box office ocean s twelve..."
            ]
          },
          "metadata": {
            "tags": []
          },
          "execution_count": 30
        }
      ]
    },
    {
      "cell_type": "code",
      "metadata": {
        "colab": {
          "base_uri": "https://localhost:8080/",
          "height": 175
        },
        "id": "QD3QlVJflRjq",
        "outputId": "b6d70dd8-1997-4862-df5f-d47c47b027d1"
      },
      "source": [
        "df.describe()"
      ],
      "execution_count": 31,
      "outputs": [
        {
          "output_type": "execute_result",
          "data": {
            "text/html": [
              "<div>\n",
              "<style scoped>\n",
              "    .dataframe tbody tr th:only-of-type {\n",
              "        vertical-align: middle;\n",
              "    }\n",
              "\n",
              "    .dataframe tbody tr th {\n",
              "        vertical-align: top;\n",
              "    }\n",
              "\n",
              "    .dataframe thead th {\n",
              "        text-align: right;\n",
              "    }\n",
              "</style>\n",
              "<table border=\"1\" class=\"dataframe\">\n",
              "  <thead>\n",
              "    <tr style=\"text-align: right;\">\n",
              "      <th></th>\n",
              "      <th>category</th>\n",
              "      <th>text</th>\n",
              "    </tr>\n",
              "  </thead>\n",
              "  <tbody>\n",
              "    <tr>\n",
              "      <th>count</th>\n",
              "      <td>2225</td>\n",
              "      <td>2225</td>\n",
              "    </tr>\n",
              "    <tr>\n",
              "      <th>unique</th>\n",
              "      <td>5</td>\n",
              "      <td>2126</td>\n",
              "    </tr>\n",
              "    <tr>\n",
              "      <th>top</th>\n",
              "      <td>sport</td>\n",
              "      <td>ultimate game  award for doom 3 sci-fi shooter...</td>\n",
              "    </tr>\n",
              "    <tr>\n",
              "      <th>freq</th>\n",
              "      <td>511</td>\n",
              "      <td>2</td>\n",
              "    </tr>\n",
              "  </tbody>\n",
              "</table>\n",
              "</div>"
            ],
            "text/plain": [
              "       category                                               text\n",
              "count      2225                                               2225\n",
              "unique        5                                               2126\n",
              "top       sport  ultimate game  award for doom 3 sci-fi shooter...\n",
              "freq        511                                                  2"
            ]
          },
          "metadata": {
            "tags": []
          },
          "execution_count": 31
        }
      ]
    },
    {
      "cell_type": "code",
      "metadata": {
        "colab": {
          "base_uri": "https://localhost:8080/"
        },
        "id": "EIfS-P7KlXSZ",
        "outputId": "e7ca7fdb-e666-4955-e139-71aed4d05db1"
      },
      "source": [
        "df.shape"
      ],
      "execution_count": 32,
      "outputs": [
        {
          "output_type": "execute_result",
          "data": {
            "text/plain": [
              "(2225, 2)"
            ]
          },
          "metadata": {
            "tags": []
          },
          "execution_count": 32
        }
      ]
    },
    {
      "cell_type": "markdown",
      "metadata": {
        "id": "rK2ETdKJkTJ3"
      },
      "source": [
        "# **C. Data Preprocess**"
      ]
    },
    {
      "cell_type": "markdown",
      "metadata": {
        "id": "0cCWJnWPkZ6R"
      },
      "source": [
        "## **1. Filter blank or null text**"
      ]
    },
    {
      "cell_type": "code",
      "metadata": {
        "id": "Q43mIWKlD3rh"
      },
      "source": [
        "filter = df[\"text\"] != \"\"\n",
        "df = df[filter]\n",
        "df = df.dropna()"
      ],
      "execution_count": 33,
      "outputs": []
    },
    {
      "cell_type": "code",
      "metadata": {
        "colab": {
          "base_uri": "https://localhost:8080/"
        },
        "id": "l4U8Ij1FE3jW",
        "outputId": "02d77c2d-2267-479b-a8f3-607b669daccc"
      },
      "source": [
        "df.shape"
      ],
      "execution_count": 34,
      "outputs": [
        {
          "output_type": "execute_result",
          "data": {
            "text/plain": [
              "(2225, 2)"
            ]
          },
          "metadata": {
            "tags": []
          },
          "execution_count": 34
        }
      ]
    },
    {
      "cell_type": "code",
      "metadata": {
        "id": "i9YShaODlb4U"
      },
      "source": [
        "X = df[\"text\"]\n",
        "y = df[\"category\"]"
      ],
      "execution_count": 35,
      "outputs": []
    },
    {
      "cell_type": "markdown",
      "metadata": {
        "id": "qBm0Bz4okoj6"
      },
      "source": [
        "## **2. Lowering case of the text**"
      ]
    },
    {
      "cell_type": "code",
      "metadata": {
        "colab": {
          "base_uri": "https://localhost:8080/"
        },
        "id": "yREF9_JpOeQz",
        "outputId": "ef0368e2-9d47-4372-bf09-c79c7ed0fc9e"
      },
      "source": [
        "X.apply(lambda el: el.lower())"
      ],
      "execution_count": 36,
      "outputs": [
        {
          "output_type": "execute_result",
          "data": {
            "text/plain": [
              "0       tv future in the hands of viewers with home th...\n",
              "1       worldcom boss  left books alone  former worldc...\n",
              "2       tigers wary of farrell  gamble  leicester say ...\n",
              "3       yeading face newcastle in fa cup premiership s...\n",
              "4       ocean s twelve raids box office ocean s twelve...\n",
              "                              ...                        \n",
              "2220    cars pull down us retail figures us retail sal...\n",
              "2221    kilroy unveils immigration policy ex-chatshow ...\n",
              "2222    rem announce new glasgow concert us band rem h...\n",
              "2223    how political squabbles snowball it s become c...\n",
              "2224    souness delight at euro progress boss graeme s...\n",
              "Name: text, Length: 2225, dtype: object"
            ]
          },
          "metadata": {
            "tags": []
          },
          "execution_count": 36
        }
      ]
    },
    {
      "cell_type": "markdown",
      "metadata": {
        "id": "VpZZvUn5kv0-"
      },
      "source": [
        "## **3. Tokenize with punctuations removal of the text**"
      ]
    },
    {
      "cell_type": "code",
      "metadata": {
        "colab": {
          "base_uri": "https://localhost:8080/"
        },
        "id": "jESJ4benoQbW",
        "outputId": "68483d48-014a-4d6f-b8f8-534b247b8dfa"
      },
      "source": [
        "from nltk.tokenize import RegexpTokenizer\n",
        "\n",
        "tokenizer = RegexpTokenizer(r'\\w+')\n",
        "X.apply(lambda el: tokenizer.tokenize(el))"
      ],
      "execution_count": 37,
      "outputs": [
        {
          "output_type": "execute_result",
          "data": {
            "text/plain": [
              "0       [tv, future, in, the, hands, of, viewers, with...\n",
              "1       [worldcom, boss, left, books, alone, former, w...\n",
              "2       [tigers, wary, of, farrell, gamble, leicester,...\n",
              "3       [yeading, face, newcastle, in, fa, cup, premie...\n",
              "4       [ocean, s, twelve, raids, box, office, ocean, ...\n",
              "                              ...                        \n",
              "2220    [cars, pull, down, us, retail, figures, us, re...\n",
              "2221    [kilroy, unveils, immigration, policy, ex, cha...\n",
              "2222    [rem, announce, new, glasgow, concert, us, ban...\n",
              "2223    [how, political, squabbles, snowball, it, s, b...\n",
              "2224    [souness, delight, at, euro, progress, boss, g...\n",
              "Name: text, Length: 2225, dtype: object"
            ]
          },
          "metadata": {
            "tags": []
          },
          "execution_count": 37
        }
      ]
    },
    {
      "cell_type": "markdown",
      "metadata": {
        "id": "vQaiX8MUlF_O"
      },
      "source": [
        "## **4. Remove all stop words**"
      ]
    },
    {
      "cell_type": "code",
      "metadata": {
        "colab": {
          "base_uri": "https://localhost:8080/"
        },
        "id": "5j-GsuUEv0KY",
        "outputId": "1baa3508-2f81-4c12-c0cd-3f8e59fb4a95"
      },
      "source": [
        "import nltk\n",
        "nltk.download('stopwords')\n",
        "nltk.download('punkt')\n",
        "\n",
        "from nltk.corpus import stopwords \n",
        "  \n",
        "stop_words = set(stopwords.words('english')) \n",
        "\n",
        "def remove_stop_words(words, stop_words):\n",
        "  filtered_sentence = []\n",
        "  for w in words:\n",
        "      if w not in stop_words:\n",
        "          filtered_sentence.append(w)\n",
        "  return filtered_sentence\n",
        "\n",
        "X.apply(lambda el: remove_stop_words(el, stop_words))"
      ],
      "execution_count": 38,
      "outputs": [
        {
          "output_type": "stream",
          "text": [
            "[nltk_data] Downloading package stopwords to /root/nltk_data...\n",
            "[nltk_data]   Package stopwords is already up-to-date!\n",
            "[nltk_data] Downloading package punkt to /root/nltk_data...\n",
            "[nltk_data]   Package punkt is already up-to-date!\n"
          ],
          "name": "stdout"
        },
        {
          "output_type": "execute_result",
          "data": {
            "text/plain": [
              "0       [v,  , f, u, u, r, e,  , n,  , h, e,  , h, n, ...\n",
              "1       [w, r, l, c,  , b,  ,  , l, e, f,  , b, k,  , ...\n",
              "2       [g, e, r,  , w, r,  , f,  , f, r, r, e, l, l, ...\n",
              "3       [e, n, g,  , f, c, e,  , n, e, w, c, l, e,  , ...\n",
              "4       [c, e, n,  ,  , w, e, l, v, e,  , r,  , b, x, ...\n",
              "                              ...                        \n",
              "2220    [c, r,  , p, u, l, l,  , w, n,  , u,  , r, e, ...\n",
              "2221    [k, l, r,  , u, n, v, e, l,  , g, r, n,  , p, ...\n",
              "2222    [r, e,  , n, n, u, n, c, e,  , n, e, w,  , g, ...\n",
              "2223    [h, w,  , p, l, c, l,  , q, u, b, b, l, e,  , ...\n",
              "2224    [u, n, e,  , e, l, g, h,  ,  , e, u, r,  , p, ...\n",
              "Name: text, Length: 2225, dtype: object"
            ]
          },
          "metadata": {
            "tags": []
          },
          "execution_count": 38
        }
      ]
    },
    {
      "cell_type": "code",
      "metadata": {
        "colab": {
          "base_uri": "https://localhost:8080/"
        },
        "id": "KlYEbviWzxXE",
        "outputId": "a781db02-486b-432c-b20c-47e0ec2a442b"
      },
      "source": [
        "X.head()"
      ],
      "execution_count": 39,
      "outputs": [
        {
          "output_type": "execute_result",
          "data": {
            "text/plain": [
              "0    tv future in the hands of viewers with home th...\n",
              "1    worldcom boss  left books alone  former worldc...\n",
              "2    tigers wary of farrell  gamble  leicester say ...\n",
              "3    yeading face newcastle in fa cup premiership s...\n",
              "4    ocean s twelve raids box office ocean s twelve...\n",
              "Name: text, dtype: object"
            ]
          },
          "metadata": {
            "tags": []
          },
          "execution_count": 39
        }
      ]
    },
    {
      "cell_type": "markdown",
      "metadata": {
        "id": "4CkaRX-wlOYy"
      },
      "source": [
        "## **5. Lemmatize word in the text**"
      ]
    },
    {
      "cell_type": "code",
      "metadata": {
        "colab": {
          "base_uri": "https://localhost:8080/"
        },
        "id": "Q5ZrOh5fwz0J",
        "outputId": "a196bc80-9c2d-4fc4-baf1-573f06da7206"
      },
      "source": [
        "import nltk\n",
        "nltk.download('wordnet')\n",
        "\n",
        "from nltk.stem import WordNetLemmatizer\n",
        "\n",
        "wordnet_lemmatizer = WordNetLemmatizer()\n",
        "\n",
        "def lemmatize(words):\n",
        "  lemmatized_sentence = []\n",
        " \n",
        "  for word in words:\n",
        "    lemmatized_sentence.append(wordnet_lemmatizer.lemmatize(word))\n",
        "\n",
        "  return lemmatized_sentence\n",
        "\n",
        "X.apply(lambda el: lemmatize(el))"
      ],
      "execution_count": 40,
      "outputs": [
        {
          "output_type": "stream",
          "text": [
            "[nltk_data] Downloading package wordnet to /root/nltk_data...\n",
            "[nltk_data]   Package wordnet is already up-to-date!\n"
          ],
          "name": "stdout"
        },
        {
          "output_type": "execute_result",
          "data": {
            "text/plain": [
              "0       [t, v,  , f, u, t, u, r, e,  , i, n,  , t, h, ...\n",
              "1       [w, o, r, l, d, c, o, m,  , b, o, s, s,  ,  , ...\n",
              "2       [t, i, g, e, r, s,  , w, a, r, y,  , o, f,  , ...\n",
              "3       [y, e, a, d, i, n, g,  , f, a, c, e,  , n, e, ...\n",
              "4       [o, c, e, a, n,  , s,  , t, w, e, l, v, e,  , ...\n",
              "                              ...                        \n",
              "2220    [c, a, r, s,  , p, u, l, l,  , d, o, w, n,  , ...\n",
              "2221    [k, i, l, r, o, y,  , u, n, v, e, i, l, s,  , ...\n",
              "2222    [r, e, m,  , a, n, n, o, u, n, c, e,  , n, e, ...\n",
              "2223    [h, o, w,  , p, o, l, i, t, i, c, a, l,  , s, ...\n",
              "2224    [s, o, u, n, e, s, s,  , d, e, l, i, g, h, t, ...\n",
              "Name: text, Length: 2225, dtype: object"
            ]
          },
          "metadata": {
            "tags": []
          },
          "execution_count": 40
        }
      ]
    },
    {
      "cell_type": "code",
      "metadata": {
        "colab": {
          "base_uri": "https://localhost:8080/"
        },
        "id": "fbJAtWgo1QIr",
        "outputId": "77a1b17c-aed4-42cc-96b2-6c4df4534cb8"
      },
      "source": [
        "X.head()"
      ],
      "execution_count": 41,
      "outputs": [
        {
          "output_type": "execute_result",
          "data": {
            "text/plain": [
              "0    tv future in the hands of viewers with home th...\n",
              "1    worldcom boss  left books alone  former worldc...\n",
              "2    tigers wary of farrell  gamble  leicester say ...\n",
              "3    yeading face newcastle in fa cup premiership s...\n",
              "4    ocean s twelve raids box office ocean s twelve...\n",
              "Name: text, dtype: object"
            ]
          },
          "metadata": {
            "tags": []
          },
          "execution_count": 41
        }
      ]
    },
    {
      "cell_type": "markdown",
      "metadata": {
        "id": "KM_h_IsOlcsw"
      },
      "source": [
        "# **D. Process data**"
      ]
    },
    {
      "cell_type": "markdown",
      "metadata": {
        "id": "Dc0fhOrVlsAj"
      },
      "source": [
        "## **1. Convert NLTK token with sklearn token**"
      ]
    },
    {
      "cell_type": "code",
      "metadata": {
        "id": "rPwYfUed106z"
      },
      "source": [
        "import numpy as np\n",
        "\n",
        "from tensorflow.keras.preprocessing.text import Tokenizer\n",
        "from tensorflow.keras.preprocessing.sequence import pad_sequences\n",
        "\n",
        "X.apply(lambda el: \" \".join(el))\n",
        "\n",
        "X = X.values\n",
        "\n",
        "X = np.array(X, dtype='O')\n",
        "  \n",
        "tokenizer = Tokenizer(num_words=5000, oov_token='oov')\n",
        "tokenizer.fit_on_texts(X) \n",
        "  \n",
        "X = tokenizer.texts_to_sequences(X)\n",
        "X = pad_sequences(X, maxlen=600, padding='post', truncating='post')"
      ],
      "execution_count": 42,
      "outputs": []
    },
    {
      "cell_type": "code",
      "metadata": {
        "colab": {
          "base_uri": "https://localhost:8080/"
        },
        "id": "xeM4QdAUPA-B",
        "outputId": "0bca3cfb-e740-40de-907c-08cf0dcb4abc"
      },
      "source": [
        "print(X[0])"
      ],
      "execution_count": 43,
      "outputs": [
        {
          "output_type": "stream",
          "text": [
            "[ 177  265    7    2 1253    4 1316   18  127 1217  839    1  163 1169\n",
            " 4340    5  236  273 4202 1441   77    2 1408 1686    2  118   48 1045\n",
            "  177   24   17    1  423    7  173   80   68   11   10  229    3   35\n",
            " 3208 1427   36 2600   22    2  677  517 1374  150    7 3043 3126    3\n",
            " 1844  131  183   49  992   24  853   51    4  126 1050    1   18    2\n",
            "   50  753    2 1669 1148    5   72  512   24   17 2086    3 1316  876\n",
            "  127  602  180 1590 2199 1743  224    5  428  210 2825    3  915    1\n",
            "    5 1183  708   51    4    2  117 4484   53  992    4 2661   20   39\n",
            "  236    5  448  273 4202    1    5    1  183  113  151 3297   93    2\n",
            "   50    8    1    5    2   78    8 1493  234  554   48    3  227 1494\n",
            "  160 4666    5  588    1  177 1148   67   30  165    1    2  161 2200\n",
            "    9  141   41    1  177   30   26   46   89 1218    7    3  163 1169\n",
            "  177 2057   36   26  237  248    7  518    5    2   50   25 2959    3\n",
            "  115  129    7  238  103    4    2 1317    4  163 1169 4485   29   86\n",
            "   56   48  588    1  180 3209   30   56   46 2774   53    1   23  510\n",
            "    5 1192    1 1472  714   40  208    6 2165    1  854   25   76   50\n",
            "  602    5 1590    5 2199  224   26 2006   53   75   12  508    9   83\n",
            "    7  993    4 2166 1709   19  112   19 1907 2662    5    1    1    3\n",
            " 2601  340    2   50 2716    7   34  161   22    2  916   12   10   46\n",
            "    6 1184   11   10   89 1228    7  238  895   18    2  678    1    4\n",
            "  225   93 1493   75 1908  497  545   32   24  170    7 1051  202    3\n",
            "    6   80   68    7    2   78 3474    1    2  111 1548    8    1   90\n",
            "    2  111  181  459    9    2 2477    4    2  111   52   26   81  564\n",
            "    4  331 2166 1473  436   12   10    6   41    1  420   22    2  916\n",
            "    9 1229   78 2717   25 1907    1   10  389    9  833   32   24   17\n",
            " 1272   41   53  512 2129  498   58  510 2129   14 1409    1   28 1907\n",
            " 1941  148    1    1    2 1882   10   11   18  428 1909 3475   56   17\n",
            "    2 1297    4  512   16  119    2  955   73   10   11   12   10  359\n",
            "    3 3044    6  463   18   74  141  672   75   34  508   14    1    1\n",
            "  768 1410  294    4  177 4069  177  190   10   11    2  118   48  449\n",
            "    2  512   30  165    3 1045   20    3   17    1    9  177 1316   12\n",
            "  508   11  602    7   50  993   57 2601   62  115    6    1   54    4\n",
            "  949    8  647    5   17    2  501 1942    4    2  265  673    4    2\n",
            "    1    3  230   48  449   75   30  165    3 1045   34 1298    4 1192\n",
            " 1591  465  146    9    2 2130 1359  884   36   10  175    3  351  391\n",
            "    4   40 1126    5   75   30  160   13   83   25   12  465   29 2663\n",
            "  833    2 1427 2385 1758    1   26   41 3924   18 3298    1    5 1192\n",
            " 2129  103   30  274   75   30   26  492   30 1647   85   29  165   74\n",
            "  141    4    2  672  199   77   40 1253   33    1 1071   13    2   72\n",
            "  182   60   21    2 3299   87   54    4    1   47   26 2432    1  198\n",
            "  867   10  535    5  540    3   83   14   33    1 2718    2  517   24\n",
            " 1592    2  120   30  165    4    2  523  105   49 1126    5  992   89\n",
            "    1   22 2661  100    4   83   26   53 4341    2  177 1811]\n"
          ],
          "name": "stdout"
        }
      ]
    },
    {
      "cell_type": "code",
      "metadata": {
        "id": "eL_WJJeh91rX"
      },
      "source": [
        "# y = pd.get_dummies(y)\n",
        "y = np.array(pd.get_dummies(y).values, dtype='O')"
      ],
      "execution_count": 44,
      "outputs": []
    },
    {
      "cell_type": "code",
      "metadata": {
        "colab": {
          "base_uri": "https://localhost:8080/"
        },
        "id": "Tc4Zv93N1Up_",
        "outputId": "1985bb50-6d67-4d9a-b74d-3ca2610ae0f1"
      },
      "source": [
        "# Split data\n",
        "from sklearn.model_selection import train_test_split\n",
        "\n",
        "X_train, X_test, y_train, y_test = train_test_split(X, y, test_size=0.2, random_state=63)\n",
        "\n",
        "print(X[0])\n",
        "print(y[0])"
      ],
      "execution_count": 45,
      "outputs": [
        {
          "output_type": "stream",
          "text": [
            "[ 177  265    7    2 1253    4 1316   18  127 1217  839    1  163 1169\n",
            " 4340    5  236  273 4202 1441   77    2 1408 1686    2  118   48 1045\n",
            "  177   24   17    1  423    7  173   80   68   11   10  229    3   35\n",
            " 3208 1427   36 2600   22    2  677  517 1374  150    7 3043 3126    3\n",
            " 1844  131  183   49  992   24  853   51    4  126 1050    1   18    2\n",
            "   50  753    2 1669 1148    5   72  512   24   17 2086    3 1316  876\n",
            "  127  602  180 1590 2199 1743  224    5  428  210 2825    3  915    1\n",
            "    5 1183  708   51    4    2  117 4484   53  992    4 2661   20   39\n",
            "  236    5  448  273 4202    1    5    1  183  113  151 3297   93    2\n",
            "   50    8    1    5    2   78    8 1493  234  554   48    3  227 1494\n",
            "  160 4666    5  588    1  177 1148   67   30  165    1    2  161 2200\n",
            "    9  141   41    1  177   30   26   46   89 1218    7    3  163 1169\n",
            "  177 2057   36   26  237  248    7  518    5    2   50   25 2959    3\n",
            "  115  129    7  238  103    4    2 1317    4  163 1169 4485   29   86\n",
            "   56   48  588    1  180 3209   30   56   46 2774   53    1   23  510\n",
            "    5 1192    1 1472  714   40  208    6 2165    1  854   25   76   50\n",
            "  602    5 1590    5 2199  224   26 2006   53   75   12  508    9   83\n",
            "    7  993    4 2166 1709   19  112   19 1907 2662    5    1    1    3\n",
            " 2601  340    2   50 2716    7   34  161   22    2  916   12   10   46\n",
            "    6 1184   11   10   89 1228    7  238  895   18    2  678    1    4\n",
            "  225   93 1493   75 1908  497  545   32   24  170    7 1051  202    3\n",
            "    6   80   68    7    2   78 3474    1    2  111 1548    8    1   90\n",
            "    2  111  181  459    9    2 2477    4    2  111   52   26   81  564\n",
            "    4  331 2166 1473  436   12   10    6   41    1  420   22    2  916\n",
            "    9 1229   78 2717   25 1907    1   10  389    9  833   32   24   17\n",
            " 1272   41   53  512 2129  498   58  510 2129   14 1409    1   28 1907\n",
            " 1941  148    1    1    2 1882   10   11   18  428 1909 3475   56   17\n",
            "    2 1297    4  512   16  119    2  955   73   10   11   12   10  359\n",
            "    3 3044    6  463   18   74  141  672   75   34  508   14    1    1\n",
            "  768 1410  294    4  177 4069  177  190   10   11    2  118   48  449\n",
            "    2  512   30  165    3 1045   20    3   17    1    9  177 1316   12\n",
            "  508   11  602    7   50  993   57 2601   62  115    6    1   54    4\n",
            "  949    8  647    5   17    2  501 1942    4    2  265  673    4    2\n",
            "    1    3  230   48  449   75   30  165    3 1045   34 1298    4 1192\n",
            " 1591  465  146    9    2 2130 1359  884   36   10  175    3  351  391\n",
            "    4   40 1126    5   75   30  160   13   83   25   12  465   29 2663\n",
            "  833    2 1427 2385 1758    1   26   41 3924   18 3298    1    5 1192\n",
            " 2129  103   30  274   75   30   26  492   30 1647   85   29  165   74\n",
            "  141    4    2  672  199   77   40 1253   33    1 1071   13    2   72\n",
            "  182   60   21    2 3299   87   54    4    1   47   26 2432    1  198\n",
            "  867   10  535    5  540    3   83   14   33    1 2718    2  517   24\n",
            " 1592    2  120   30  165    4    2  523  105   49 1126    5  992   89\n",
            "    1   22 2661  100    4   83   26   53 4341    2  177 1811]\n",
            "[0 0 0 0 1]\n"
          ],
          "name": "stdout"
        }
      ]
    },
    {
      "cell_type": "code",
      "metadata": {
        "id": "c5khAeLFAD3Y"
      },
      "source": [
        "X_train_tensor = tf.convert_to_tensor(\n",
        "    X_train, dtype=tf.int32\n",
        ")\n",
        "\n",
        "X_test_tensor = tf.convert_to_tensor(\n",
        "    X_test, dtype=tf.int32\n",
        ")\n",
        "\n",
        "y_train_tensor = tf.convert_to_tensor(\n",
        "    y_train, dtype=tf.bool\n",
        ")\n",
        "\n",
        "y_test_tensor = tf.convert_to_tensor(\n",
        "    y_test, dtype=tf.bool\n",
        ")"
      ],
      "execution_count": 46,
      "outputs": []
    },
    {
      "cell_type": "markdown",
      "metadata": {
        "id": "S7PTCe7XmLMu"
      },
      "source": [
        "## **2. Create ANN model**"
      ]
    },
    {
      "cell_type": "code",
      "metadata": {
        "id": "r0bOhjJk-6S8",
        "colab": {
          "base_uri": "https://localhost:8080/"
        },
        "outputId": "ca880142-87da-480c-9c27-3f57e4deb7a4"
      },
      "source": [
        "import tensorflow as tf\n",
        "\n",
        "from tensorflow.keras.models import Sequential\n",
        "from tensorflow.keras.layers import Dense, Flatten, LSTM, Dropout, Activation, Embedding, Bidirectional\n",
        "\n",
        "model = tf.keras.Sequential([\n",
        "    tf.keras.layers.Embedding(input_dim=5000, output_dim=16),\n",
        "    tf.keras.layers.Bidirectional(LSTM(64)),\n",
        "    # tf.keras.layers.LSTM(64),\n",
        "    tf.keras.layers.Dense(128, activation='relu'),\n",
        "    tf.keras.layers.Dense(64, activation='relu'),\n",
        "    tf.keras.layers.Dense(5, activation='softmax')\n",
        "])\n",
        "\n",
        "model.summary()"
      ],
      "execution_count": 72,
      "outputs": [
        {
          "output_type": "stream",
          "text": [
            "Model: \"sequential_8\"\n",
            "_________________________________________________________________\n",
            "Layer (type)                 Output Shape              Param #   \n",
            "=================================================================\n",
            "embedding_7 (Embedding)      (None, None, 16)          80000     \n",
            "_________________________________________________________________\n",
            "bidirectional_4 (Bidirection (None, 128)               41472     \n",
            "_________________________________________________________________\n",
            "dense_17 (Dense)             (None, 128)               16512     \n",
            "_________________________________________________________________\n",
            "dense_18 (Dense)             (None, 64)                8256      \n",
            "_________________________________________________________________\n",
            "dense_19 (Dense)             (None, 5)                 325       \n",
            "=================================================================\n",
            "Total params: 146,565\n",
            "Trainable params: 146,565\n",
            "Non-trainable params: 0\n",
            "_________________________________________________________________\n"
          ],
          "name": "stdout"
        }
      ]
    },
    {
      "cell_type": "code",
      "metadata": {
        "id": "xKSJSHJmnBXS"
      },
      "source": [
        "opt = tf.keras.optimizers.Adam(learning_rate=0.001, decay=1e-6)\n",
        "\n",
        "model.compile(loss='categorical_crossentropy',optimizer=opt,metrics=['accuracy'])"
      ],
      "execution_count": 73,
      "outputs": []
    },
    {
      "cell_type": "markdown",
      "metadata": {
        "id": "SiDB1EOvtC7r"
      },
      "source": [
        "## **3. Train model with data**"
      ]
    },
    {
      "cell_type": "code",
      "metadata": {
        "colab": {
          "base_uri": "https://localhost:8080/"
        },
        "id": "3wCzUj8a_E-G",
        "outputId": "31025f1f-fcfb-4fa7-91e8-c64001b1ad24"
      },
      "source": [
        "num_epochs = 15\n",
        "history = model.fit(X_train_tensor, y_train_tensor, epochs=num_epochs, \n",
        "                    validation_data=(X_test_tensor, y_test_tensor), verbose=2)"
      ],
      "execution_count": 68,
      "outputs": [
        {
          "output_type": "stream",
          "text": [
            "Epoch 1/15\n",
            "56/56 - 36s - loss: 1.5890 - accuracy: 0.2562 - val_loss: 1.4181 - val_accuracy: 0.4427\n",
            "Epoch 2/15\n",
            "56/56 - 33s - loss: 1.1569 - accuracy: 0.5118 - val_loss: 0.8701 - val_accuracy: 0.6674\n",
            "Epoch 3/15\n",
            "56/56 - 32s - loss: 0.5809 - accuracy: 0.8146 - val_loss: 0.5650 - val_accuracy: 0.8382\n",
            "Epoch 4/15\n",
            "56/56 - 32s - loss: 0.1878 - accuracy: 0.9567 - val_loss: 0.3505 - val_accuracy: 0.8944\n",
            "Epoch 5/15\n",
            "56/56 - 32s - loss: 0.0334 - accuracy: 0.9944 - val_loss: 0.4087 - val_accuracy: 0.8899\n",
            "Epoch 6/15\n",
            "56/56 - 32s - loss: 0.0080 - accuracy: 0.9994 - val_loss: 0.3815 - val_accuracy: 0.9124\n",
            "Epoch 7/15\n",
            "56/56 - 32s - loss: 0.0018 - accuracy: 1.0000 - val_loss: 0.3962 - val_accuracy: 0.9124\n",
            "Epoch 8/15\n",
            "56/56 - 31s - loss: 8.7819e-04 - accuracy: 1.0000 - val_loss: 0.4119 - val_accuracy: 0.9101\n",
            "Epoch 9/15\n",
            "56/56 - 32s - loss: 5.6951e-04 - accuracy: 1.0000 - val_loss: 0.4246 - val_accuracy: 0.9079\n",
            "Epoch 10/15\n",
            "56/56 - 32s - loss: 4.0239e-04 - accuracy: 1.0000 - val_loss: 0.4395 - val_accuracy: 0.9101\n",
            "Epoch 11/15\n",
            "56/56 - 32s - loss: 2.9601e-04 - accuracy: 1.0000 - val_loss: 0.4506 - val_accuracy: 0.9146\n",
            "Epoch 12/15\n",
            "56/56 - 32s - loss: 2.2363e-04 - accuracy: 1.0000 - val_loss: 0.4609 - val_accuracy: 0.9191\n",
            "Epoch 13/15\n",
            "56/56 - 31s - loss: 1.7661e-04 - accuracy: 1.0000 - val_loss: 0.4727 - val_accuracy: 0.9124\n",
            "Epoch 14/15\n",
            "56/56 - 31s - loss: 1.4061e-04 - accuracy: 1.0000 - val_loss: 0.4804 - val_accuracy: 0.9124\n",
            "Epoch 15/15\n",
            "56/56 - 31s - loss: 1.1377e-04 - accuracy: 1.0000 - val_loss: 0.4874 - val_accuracy: 0.9169\n"
          ],
          "name": "stdout"
        }
      ]
    },
    {
      "cell_type": "code",
      "metadata": {
        "colab": {
          "base_uri": "https://localhost:8080/"
        },
        "id": "iMINh6V3scCO",
        "outputId": "079ebddd-7142-440d-f17a-6e61823a50ab"
      },
      "source": [
        "# try with callback \n",
        "from keras.callbacks import EarlyStopping, ReduceLROnPlateau\n",
        "\n",
        "num_epochs = 12\n",
        "history_callback = model.fit(\n",
        "        X_train_tensor, y_train_tensor, \n",
        "        epochs=num_epochs, verbose=2,\n",
        "        validation_data=(X_test_tensor, y_test_tensor), \n",
        "        callbacks=[\n",
        "           EarlyStopping(patience=4, restore_best_weights=True),\n",
        "           ReduceLROnPlateau(patience=3)\n",
        "        ])"
      ],
      "execution_count": 74,
      "outputs": [
        {
          "output_type": "stream",
          "text": [
            "Epoch 1/12\n",
            "56/56 - 130s - loss: 1.5891 - accuracy: 0.2629 - val_loss: 1.4970 - val_accuracy: 0.4427\n",
            "Epoch 2/12\n",
            "56/56 - 33s - loss: 1.0789 - accuracy: 0.5112 - val_loss: 0.8824 - val_accuracy: 0.6180\n",
            "Epoch 3/12\n",
            "56/56 - 33s - loss: 0.5317 - accuracy: 0.7994 - val_loss: 0.6469 - val_accuracy: 0.7461\n",
            "Epoch 4/12\n",
            "56/56 - 32s - loss: 0.2906 - accuracy: 0.9022 - val_loss: 0.5112 - val_accuracy: 0.8674\n",
            "Epoch 5/12\n",
            "56/56 - 33s - loss: 0.1222 - accuracy: 0.9669 - val_loss: 0.4708 - val_accuracy: 0.8876\n",
            "Epoch 6/12\n",
            "56/56 - 32s - loss: 0.0364 - accuracy: 0.9910 - val_loss: 0.5710 - val_accuracy: 0.8764\n",
            "Epoch 7/12\n",
            "56/56 - 33s - loss: 0.0203 - accuracy: 0.9921 - val_loss: 0.5733 - val_accuracy: 0.8989\n",
            "Epoch 8/12\n",
            "56/56 - 32s - loss: 0.0223 - accuracy: 0.9961 - val_loss: 0.6253 - val_accuracy: 0.9011\n",
            "Epoch 9/12\n",
            "56/56 - 32s - loss: 0.0079 - accuracy: 0.9983 - val_loss: 0.5987 - val_accuracy: 0.8966\n"
          ],
          "name": "stdout"
        }
      ]
    },
    {
      "cell_type": "markdown",
      "metadata": {
        "id": "SNvxSjtemjuJ"
      },
      "source": [
        "## **4. Create graph of training process**"
      ]
    },
    {
      "cell_type": "markdown",
      "metadata": {
        "id": "Y9LwudfItxgH"
      },
      "source": [
        "### **a. Without callback**"
      ]
    },
    {
      "cell_type": "code",
      "metadata": {
        "id": "EvR92xeD_vtd",
        "colab": {
          "base_uri": "https://localhost:8080/",
          "height": 541
        },
        "outputId": "b9696631-a04a-4f5f-85f4-39f3bfb7e6d6"
      },
      "source": [
        "import matplotlib.pyplot as plt\n",
        "\n",
        "def plot_graphs(history, string):\n",
        "  plt.plot(history.history[string])\n",
        "  plt.plot(history.history['val_'+string])\n",
        "  plt.xlabel(\"Epochs\")\n",
        "  plt.ylabel(string)\n",
        "  plt.legend([string, 'val_'+string])\n",
        "  plt.show()\n",
        "  \n",
        "plot_graphs(history, \"accuracy\")\n",
        "plot_graphs(history, \"loss\")"
      ],
      "execution_count": 69,
      "outputs": [
        {
          "output_type": "display_data",
          "data": {
            "image/png": "[encoded data removed]",
            "text/plain": [
              "<Figure size 432x288 with 1 Axes>"
            ]
          },
          "metadata": {
            "tags": [],
            "needs_background": "light"
          }
        },
        {
          "output_type": "display_data",
          "data": {
            "image/png": "[encoded data removed]",
            "text/plain": [
              "<Figure size 432x288 with 1 Axes>"
            ]
          },
          "metadata": {
            "tags": [],
            "needs_background": "light"
          }
        }
      ]
    },
    {
      "cell_type": "markdown",
      "metadata": {
        "id": "4AJL-3-kt2pH"
      },
      "source": [
        "### **b. With callback**"
      ]
    },
    {
      "cell_type": "code",
      "metadata": {
        "colab": {
          "base_uri": "https://localhost:8080/",
          "height": 541
        },
        "id": "wKidPgQVt-gw",
        "outputId": "7b63d5a8-3a84-4dee-be0e-4eb34a3adf76"
      },
      "source": [
        "import matplotlib.pyplot as plt\n",
        "\n",
        "def plot_graphs(history, string):\n",
        "  plt.plot(history.history[string])\n",
        "  plt.plot(history.history['val_'+string])\n",
        "  plt.xlabel(\"Epochs\")\n",
        "  plt.ylabel(string)\n",
        "  plt.legend([string, 'val_'+string])\n",
        "  plt.show()\n",
        "  \n",
        "plot_graphs(history_callback, \"accuracy\")\n",
        "plot_graphs(history_callback, \"loss\")"
      ],
      "execution_count": 75,
      "outputs": [
        {
          "output_type": "display_data",
          "data": {
            "image/png": "[encoded data removed]",
            "text/plain": [
              "<Figure size 432x288 with 1 Axes>"
            ]
          },
          "metadata": {
            "tags": [],
            "needs_background": "light"
          }
        },
        {
          "output_type": "display_data",
          "data": {
            "image/png": "[encoded data removed]",
            "text/plain": [
              "<Figure size 432x288 with 1 Axes>"
            ]
          },
          "metadata": {
            "tags": [],
            "needs_background": "light"
          }
        }
      ]
    }
  ]
}