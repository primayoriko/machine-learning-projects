{
  "nbformat": 4,
  "nbformat_minor": 0,
  "metadata": {
    "colab": {
      "name": "primayoriko_TimeSeries_dicoding.ipynb",
      "provenance": [],
      "collapsed_sections": []
    },
    "kernelspec": {
      "name": "python3",
      "display_name": "Python 3"
    },
    "language_info": {
      "name": "python"
    }
  },
  "cells": [
    {
      "cell_type": "markdown",
      "metadata": {
        "id": "aXfkEb0yiOTe"
      },
      "source": [
        "# **PJM Energy Consumption Prediction**\n",
        "\n",
        "-------\n",
        "\n",
        "**Name:** Naufal Prima Yoriko <br/>\n",
        "**Email:** primayoriko@gmail.com <br/>"
      ]
    },
    {
      "cell_type": "markdown",
      "metadata": {
        "id": "jBDVdYSD7kVO"
      },
      "source": [
        "# **A. Prepare Data**"
      ]
    },
    {
      "cell_type": "markdown",
      "metadata": {
        "id": "2oApK4xr8VvV"
      },
      "source": [
        "## **1. Import Data**\n",
        "\n",
        "using Kaggle API"
      ]
    },
    {
      "cell_type": "code",
      "metadata": {
        "colab": {
          "base_uri": "https://localhost:8080/"
        },
        "id": "RvX6va34H38W",
        "outputId": "54411c4a-11a0-4bd4-987a-63ed93e7375b"
      },
      "source": [
        "# install kaggle api program \n",
        "!pip install --upgrade --force-reinstall --no-deps kaggle"
      ],
      "execution_count": 1,
      "outputs": [
        {
          "output_type": "stream",
          "text": [
            "Processing /root/.cache/pip/wheels/a1/6a/26/d30b7499ff85a4a4593377a87ecf55f7d08af42f0de9b60303/kaggle-1.5.12-cp37-none-any.whl\n",
            "Installing collected packages: kaggle\n",
            "  Found existing installation: kaggle 1.5.12\n",
            "    Uninstalling kaggle-1.5.12:\n",
            "      Successfully uninstalled kaggle-1.5.12\n",
            "Successfully installed kaggle-1.5.12\n"
          ],
          "name": "stdout"
        }
      ]
    },
    {
      "cell_type": "markdown",
      "metadata": {
        "id": "L_oB0inf7sUL"
      },
      "source": [
        "please import your kaggle api keys"
      ]
    },
    {
      "cell_type": "code",
      "metadata": {
        "id": "QuBxkX_R5Jh-"
      },
      "source": [
        "from google.colab import files \n",
        "files.upload()"
      ],
      "execution_count": null,
      "outputs": []
    },
    {
      "cell_type": "markdown",
      "metadata": {
        "id": "i5Sc9u_p6YxC"
      },
      "source": [
        "this is kaggle api key example of mine <br/>\n",
        "`\n",
        "{\"username\":\"primayoriko\",\"key\":\"580***ff5f3c6c55bc6***8424**7c80\"}\n",
        "`\n",
        "<br/>\n",
        "make your own kaggle api key, if dont know, see the tutorial post [here](https://www.kaggle.com/general/74235).\n"
      ]
    },
    {
      "cell_type": "code",
      "metadata": {
        "colab": {
          "base_uri": "https://localhost:8080/"
        },
        "id": "un-UvUg05Y7X",
        "outputId": "870b8d1f-23b1-4182-9171-f8583dd47e5c"
      },
      "source": [
        "!mkdir ~/.kaggle \n",
        "!cp kaggle.json ~/.kaggle/\n",
        "!chmod 600 ~/.kaggle/kaggle.json\n",
        "print(\"finished prepare api key file!\")"
      ],
      "execution_count": 3,
      "outputs": [
        {
          "output_type": "stream",
          "text": [
            "mkdir: cannot create directory ‘/root/.kaggle’: File exists\n",
            "finished prepare api key file!\n"
          ],
          "name": "stdout"
        }
      ]
    },
    {
      "cell_type": "code",
      "metadata": {
        "colab": {
          "base_uri": "https://localhost:8080/"
        },
        "id": "t-pEmSMg5uy_",
        "outputId": "6910bf52-19a6-4ab3-eb44-e0c22a1c3812"
      },
      "source": [
        " # test kaggle api program \n",
        " !kaggle datasets list"
      ],
      "execution_count": 4,
      "outputs": [
        {
          "output_type": "stream",
          "text": [
            "ref                                                           title                                              size  lastUpdated          downloadCount  voteCount  usabilityRating  \n",
            "------------------------------------------------------------  ------------------------------------------------  -----  -------------------  -------------  ---------  ---------------  \n",
            "gpreda/reddit-vaccine-myths                                   Reddit Vaccine Myths                              232KB  2021-06-27 12:35:43           8370        716  1.0              \n",
            "crowww/a-large-scale-fish-dataset                             A Large Scale Fish Dataset                          3GB  2021-04-28 17:03:01           5132        404  0.9375           \n",
            "imsparsh/musicnet-dataset                                     MusicNet Dataset                                   22GB  2021-02-18 14:12:19           1744        144  1.0              \n",
            "promptcloud/careerbuilder-job-listing-2020                    Careerbuilder Job Listing 2020                     42MB  2021-03-05 06:59:52           1169         46  1.0              \n",
            "coloradokb/dandelionimages                                    DandelionImages                                     4GB  2021-02-19 20:03:47            574         29  0.75             \n",
            "nickuzmenkov/nih-chest-xrays-tfrecords                        NIH Chest X-rays TFRecords                         11GB  2021-03-09 04:49:23            647         40  0.9411765        \n",
            "fatiimaezzahra/famous-iconic-women                            Famous Iconic Women                               838MB  2021-02-28 14:56:00            860         65  0.75             \n",
            "dhruvildave/wikibooks-dataset                                 Wikibooks Dataset                                   1GB  2021-06-21 13:35:12           2297        164  1.0              \n",
            "mathurinache/twitter-edge-nodes                               Twitter Edge Nodes                                342MB  2021-03-08 06:43:04            568         61  1.0              \n",
            "alsgroup/end-als                                              End ALS Kaggle Challenge                           12GB  2021-04-08 12:16:37            744        104  0.9375           \n",
            "simiotic/github-code-snippets                                 GitHub Code Snippets                                7GB  2021-03-03 11:34:39            180         50  1.0              \n",
            "landrykezebou/lvzhdr-tone-mapping-benchmark-dataset-tmonet    LVZ-HDR Tone Mapping Benchmark Dataset (TMO-Net)   24GB  2021-03-01 05:03:40            135         22  0.6875           \n",
            "mathurinache/the-lj-speech-dataset                            The LJ Speech Dataset                               3GB  2021-02-15 09:19:54            210         35  1.0              \n",
            "imsparsh/accentdb-core-extended                               AccentDB - Core & Extended                          6GB  2021-02-17 14:22:54             87         23  0.8125           \n",
            "nickuzmenkov/ranzcr-clip-kfold-tfrecords                      RANZCR CLiP KFold TFRecords                         2GB  2021-02-21 13:29:51             93         19  0.875            \n",
            "stuartjames/lights                                            LightS: Light Specularity Dataset                  18GB  2021-02-18 14:32:26             83         23  0.6875           \n",
            "jessicali9530/animal-crossing-new-horizons-nookplaza-dataset  Animal Crossing New Horizons Catalog              577KB  2021-06-08 15:05:09           4182       2987  0.8235294        \n",
            "datasnaek/youtube-new                                         Trending YouTube Video Statistics                 201MB  2019-06-03 00:56:47         143367       4017  0.7941176        \n",
            "zynicide/wine-reviews                                         Wine Reviews                                       51MB  2017-11-27 17:08:04         139106       3101  0.7941176        \n",
            "residentmario/ramen-ratings                                   Ramen Ratings                                      40KB  2018-01-11 16:04:39          24393        600  0.7058824        \n"
          ],
          "name": "stdout"
        }
      ]
    },
    {
      "cell_type": "markdown",
      "metadata": {
        "id": "k_CMHspo7ykh"
      },
      "source": [
        "download the dataset <br/>\n",
        "**NOTE:**  make sure you have accept terms in the kaggle site, in case needed (some data need it) <br/>\n",
        "https://www.kaggle.com/robikscube/hourly-energy-consumption"
      ]
    },
    {
      "cell_type": "code",
      "metadata": {
        "colab": {
          "base_uri": "https://localhost:8080/"
        },
        "id": "J8pgFwul5zm3",
        "outputId": "fcc8e9c0-76e8-4cb4-ad94-c4be0acf8f86"
      },
      "source": [
        "!kaggle datasets download -d robikscube/hourly-energy-consumption --force"
      ],
      "execution_count": 5,
      "outputs": [
        {
          "output_type": "stream",
          "text": [
            "Downloading hourly-energy-consumption.zip to /content\n",
            "\r  0% 0.00/11.4M [00:00<?, ?B/s]\n",
            "\r100% 11.4M/11.4M [00:00<00:00, 150MB/s]\n"
          ],
          "name": "stdout"
        }
      ]
    },
    {
      "cell_type": "code",
      "metadata": {
        "colab": {
          "base_uri": "https://localhost:8080/"
        },
        "id": "QQgEzQMRJLdI",
        "outputId": "d36ed61a-e771-4dab-f3b7-737b3740717b"
      },
      "source": [
        "!ls"
      ],
      "execution_count": 6,
      "outputs": [
        {
          "output_type": "stream",
          "text": [
            " AEP_hourly.csv      est_hourly.paruqet\t\t     PJME_hourly.csv\n",
            " COMED_hourly.csv    FE_hourly.csv\t\t     pjm_hourly_est.csv\n",
            " DAYTON_hourly.csv   hourly-energy-consumption.zip   PJM_Load_hourly.csv\n",
            " DEOK_hourly.csv    'kaggle (1).json'\t\t     PJMW_hourly.csv\n",
            " DOM_hourly.csv     'kaggle (2).json'\t\t     sample_data\n",
            " DUQ_hourly.csv      kaggle.json\n",
            " EKPC_hourly.csv     NI_hourly.csv\n"
          ],
          "name": "stdout"
        }
      ]
    },
    {
      "cell_type": "code",
      "metadata": {
        "id": "942-yX9zJ5wY"
      },
      "source": [
        "# Extract file\n",
        "import zipfile,os\n",
        "\n",
        "local_zip = './hourly-energy-consumption.zip'\n",
        "zip_ref = zipfile.ZipFile(local_zip, 'r')\n",
        "zip_ref.extractall('./')\n",
        "zip_ref.close()"
      ],
      "execution_count": 7,
      "outputs": []
    },
    {
      "cell_type": "code",
      "metadata": {
        "colab": {
          "base_uri": "https://localhost:8080/"
        },
        "id": "QBuj2rXX8hXE",
        "outputId": "7ff996f1-24bf-4786-dcca-bd3e1d21664f"
      },
      "source": [
        "!ls"
      ],
      "execution_count": 8,
      "outputs": [
        {
          "output_type": "stream",
          "text": [
            " AEP_hourly.csv      est_hourly.paruqet\t\t     PJME_hourly.csv\n",
            " COMED_hourly.csv    FE_hourly.csv\t\t     pjm_hourly_est.csv\n",
            " DAYTON_hourly.csv   hourly-energy-consumption.zip   PJM_Load_hourly.csv\n",
            " DEOK_hourly.csv    'kaggle (1).json'\t\t     PJMW_hourly.csv\n",
            " DOM_hourly.csv     'kaggle (2).json'\t\t     sample_data\n",
            " DUQ_hourly.csv      kaggle.json\n",
            " EKPC_hourly.csv     NI_hourly.csv\n"
          ],
          "name": "stdout"
        }
      ]
    },
    {
      "cell_type": "markdown",
      "metadata": {
        "id": "hFr9IYBC8XbF"
      },
      "source": [
        "## **2. Load Data**\n",
        "\n",
        "here we're just using data from DEOK `DEOK_hourly.csv` for this practice"
      ]
    },
    {
      "cell_type": "code",
      "metadata": {
        "id": "hw8Fog_SL5jE"
      },
      "source": [
        "import pandas as pd\n",
        "\n",
        "df = pd.read_csv('DEOK_hourly.csv')"
      ],
      "execution_count": 9,
      "outputs": []
    },
    {
      "cell_type": "markdown",
      "metadata": {
        "id": "Ytq-2h0d9S6E"
      },
      "source": [
        "# **B. Explore Data**"
      ]
    },
    {
      "cell_type": "code",
      "metadata": {
        "colab": {
          "base_uri": "https://localhost:8080/",
          "height": 206
        },
        "id": "4_hJ9NOf8tKQ",
        "outputId": "20cba4de-6ad7-4366-ce30-8c7aa27eaa89"
      },
      "source": [
        "df.head()"
      ],
      "execution_count": 10,
      "outputs": [
        {
          "output_type": "execute_result",
          "data": {
            "text/html": [
              "<div>\n",
              "<style scoped>\n",
              "    .dataframe tbody tr th:only-of-type {\n",
              "        vertical-align: middle;\n",
              "    }\n",
              "\n",
              "    .dataframe tbody tr th {\n",
              "        vertical-align: top;\n",
              "    }\n",
              "\n",
              "    .dataframe thead th {\n",
              "        text-align: right;\n",
              "    }\n",
              "</style>\n",
              "<table border=\"1\" class=\"dataframe\">\n",
              "  <thead>\n",
              "    <tr style=\"text-align: right;\">\n",
              "      <th></th>\n",
              "      <th>Datetime</th>\n",
              "      <th>DEOK_MW</th>\n",
              "    </tr>\n",
              "  </thead>\n",
              "  <tbody>\n",
              "    <tr>\n",
              "      <th>0</th>\n",
              "      <td>2012-12-31 01:00:00</td>\n",
              "      <td>2945.0</td>\n",
              "    </tr>\n",
              "    <tr>\n",
              "      <th>1</th>\n",
              "      <td>2012-12-31 02:00:00</td>\n",
              "      <td>2868.0</td>\n",
              "    </tr>\n",
              "    <tr>\n",
              "      <th>2</th>\n",
              "      <td>2012-12-31 03:00:00</td>\n",
              "      <td>2812.0</td>\n",
              "    </tr>\n",
              "    <tr>\n",
              "      <th>3</th>\n",
              "      <td>2012-12-31 04:00:00</td>\n",
              "      <td>2812.0</td>\n",
              "    </tr>\n",
              "    <tr>\n",
              "      <th>4</th>\n",
              "      <td>2012-12-31 05:00:00</td>\n",
              "      <td>2860.0</td>\n",
              "    </tr>\n",
              "  </tbody>\n",
              "</table>\n",
              "</div>"
            ],
            "text/plain": [
              "              Datetime  DEOK_MW\n",
              "0  2012-12-31 01:00:00   2945.0\n",
              "1  2012-12-31 02:00:00   2868.0\n",
              "2  2012-12-31 03:00:00   2812.0\n",
              "3  2012-12-31 04:00:00   2812.0\n",
              "4  2012-12-31 05:00:00   2860.0"
            ]
          },
          "metadata": {
            "tags": []
          },
          "execution_count": 10
        }
      ]
    },
    {
      "cell_type": "code",
      "metadata": {
        "colab": {
          "base_uri": "https://localhost:8080/"
        },
        "id": "oRrAkLkv8wcJ",
        "outputId": "95de3b4d-1355-443c-f571-830b23f95be7"
      },
      "source": [
        "df.shape"
      ],
      "execution_count": 11,
      "outputs": [
        {
          "output_type": "execute_result",
          "data": {
            "text/plain": [
              "(57739, 2)"
            ]
          },
          "metadata": {
            "tags": []
          },
          "execution_count": 11
        }
      ]
    },
    {
      "cell_type": "code",
      "metadata": {
        "colab": {
          "base_uri": "https://localhost:8080/"
        },
        "id": "3G41V5d6hsIz",
        "outputId": "8c86eb01-3b49-48f3-aaf5-e511f7214629"
      },
      "source": [
        "df.isnull().sum()"
      ],
      "execution_count": 12,
      "outputs": [
        {
          "output_type": "execute_result",
          "data": {
            "text/plain": [
              "Datetime    0\n",
              "DEOK_MW     0\n",
              "dtype: int64"
            ]
          },
          "metadata": {
            "tags": []
          },
          "execution_count": 12
        }
      ]
    },
    {
      "cell_type": "code",
      "metadata": {
        "colab": {
          "base_uri": "https://localhost:8080/",
          "height": 341
        },
        "id": "N5ZaNlN8h7Tg",
        "outputId": "be8a2129-dff8-4d43-dd13-bf92f22f7f10"
      },
      "source": [
        "import matplotlib.pyplot as plt\n",
        "\n",
        "datetimes = df['Datetime'].values[0:2000]\n",
        "energy_usages  = df['DEOK_MW'].values[0:2000]\n",
        "  \n",
        "plt.figure(figsize=(20,5))\n",
        "plt.plot(datetimes, energy_usages)\n",
        "plt.title('Energy Consumption',\n",
        "          fontsize=20);"
      ],
      "execution_count": 14,
      "outputs": [
        {
          "output_type": "display_data",
          "data": {
            "image/png": "[encoded data removed]",
            "text/plain": [
              "<Figure size 1080x360 with 1 Axes>"
            ]
          },
          "metadata": {
            "tags": [],
            "needs_background": "light"
          }
        }
      ]
    },
    {
      "cell_type": "markdown",
      "metadata": {
        "id": "Ye5Fti_c9eQV"
      },
      "source": [
        "# **C. Preprocess Data**"
      ]
    },
    {
      "cell_type": "markdown",
      "metadata": {
        "id": "QPWh7nSSO1z4"
      },
      "source": [
        "## **1. Make preprocess helper function**"
      ]
    },
    {
      "cell_type": "markdown",
      "metadata": {
        "id": "aCduu-FJQppr"
      },
      "source": [
        "### **1.1. X y helper function**\n",
        "\n",
        "Help to create X with appropriate window size and y with appropriate feature size. "
      ]
    },
    {
      "cell_type": "code",
      "metadata": {
        "id": "f3lLBXDcQD0E"
      },
      "source": [
        "import numpy as np\n",
        "\n",
        "def create_X_y(ts: list, window_size: int, feature_size: int = 1) -> tuple:\n",
        "  X, y = [], []\n",
        "\n",
        "  if len(ts) - window_size <= 0:\n",
        "      X.append(ts)\n",
        "  else:\n",
        "      for i in range(len(ts) - window_size):\n",
        "          y.append(ts[i + window_size])\n",
        "          X.append(ts[i:(i + window_size)])\n",
        "\n",
        "  X, y = np.array(X), np.array(y)\n",
        "\n",
        "  # Reshaping the X array to an LSTM input shape \n",
        "  X = np.reshape(X, (X.shape[0], X.shape[1], feature_size))\n",
        "\n",
        "  return X, y    "
      ],
      "execution_count": 27,
      "outputs": []
    },
    {
      "cell_type": "markdown",
      "metadata": {
        "id": "FQ25eSjXRKKl"
      },
      "source": [
        "### **1.1. train test split helper function**\n",
        "\n",
        "help to split data with specified ratio"
      ]
    },
    {
      "cell_type": "code",
      "metadata": {
        "id": "cIjbccxLQmQv"
      },
      "source": [
        "def split_data(X: list, y: list, train_test_split: int) -> tuple:\n",
        "  X_train = X\n",
        "  X_test = []\n",
        "\n",
        "  y_train = y\n",
        "  y_test = []\n",
        "\n",
        "  index = round(len(X) * train_test_split)\n",
        "  X_train = X[:(len(X) - index)]\n",
        "  X_test = X[-index:]     \n",
        "\n",
        "  y_train = y[:(len(X) - index)]\n",
        "  y_test = y[-index:]\n",
        "\n",
        "  return X_train, X_test, y_train, y_test"
      ],
      "execution_count": 23,
      "outputs": []
    },
    {
      "cell_type": "markdown",
      "metadata": {
        "id": "7ULxaeqwPFio"
      },
      "source": [
        "## **2. Declare constants**\n",
        "\n",
        "probably needed in the process phase, too."
      ]
    },
    {
      "cell_type": "code",
      "metadata": {
        "id": "UFViJJZZlXuV"
      },
      "source": [
        "n_features = 1\n",
        "n_windows = 80\n",
        "n_batchs = 150\n",
        "n_epochs = 25\n",
        "# n_batch = math.floor(len(y)/n_windows)\n",
        "\n",
        "train_test_ratio = 0.8"
      ],
      "execution_count": 31,
      "outputs": []
    },
    {
      "cell_type": "markdown",
      "metadata": {
        "id": "1gg6keHAPR8l"
      },
      "source": [
        "## **3. Do preprocess pipeline**"
      ]
    },
    {
      "cell_type": "markdown",
      "metadata": {
        "id": "9FSL5kxPPiSU"
      },
      "source": [
        "### **3.1. drop null data**"
      ]
    },
    {
      "cell_type": "code",
      "metadata": {
        "id": "d9jARdTxlpUO"
      },
      "source": [
        "df = df.dropna()"
      ],
      "execution_count": 25,
      "outputs": []
    },
    {
      "cell_type": "markdown",
      "metadata": {
        "id": "VE1Ktht4Pu0m"
      },
      "source": [
        "## **4. Split data**"
      ]
    },
    {
      "cell_type": "code",
      "metadata": {
        "id": "mO75Q-HlNCJl"
      },
      "source": [
        "# from sklearn.model_selection import train_test_split\n",
        "\n",
        "# axis_value = df['Datetime'].values\n",
        "feature_value = df['DEOK_MW'].values\n",
        "\n",
        "X, y = create_X_y(ts=feature_value, window_size=n_windows, feature_size=n_features)\n",
        "\n",
        "# X_train, X_test, y_train, y_test = train_test_split(X, y, test_size=0.2, random_state=42)\n",
        "X_train, X_test, y_train, y_test = split_data(X, y, train_test_split=train_test_ratio)"
      ],
      "execution_count": 28,
      "outputs": []
    },
    {
      "cell_type": "code",
      "metadata": {
        "id": "ozcpzH5BUEBx"
      },
      "source": [
        "train_set = windowed_dataset(y, window_size=n_windows, batch_size=n_batch, shuffle_buffer=1000)"
      ],
      "execution_count": null,
      "outputs": []
    },
    {
      "cell_type": "markdown",
      "metadata": {
        "id": "pDDsexUz9i8s"
      },
      "source": [
        "# **D. Process Data**"
      ]
    },
    {
      "cell_type": "markdown",
      "metadata": {
        "id": "qF4nwLFRT7zB"
      },
      "source": [
        "## **1. Create model**"
      ]
    },
    {
      "cell_type": "code",
      "metadata": {
        "id": "UPIcbQqcjti6"
      },
      "source": [
        "import tensorflow as tf\n",
        "\n",
        "model = tf.keras.models.Sequential([\n",
        "  tf.keras.layers.LSTM(60, return_sequences=True),\n",
        "  tf.keras.layers.LSTM(60),\n",
        "  tf.keras.layers.Dense(30, activation=\"relu\"),\n",
        "  tf.keras.layers.Dense(10, activation=\"relu\"),\n",
        "  tf.keras.layers.Dense(1),\n",
        "])"
      ],
      "execution_count": 32,
      "outputs": []
    },
    {
      "cell_type": "code",
      "metadata": {
        "id": "eljm1oL8VtEm"
      },
      "source": [
        "optimizer = tf.keras.optimizers.SGD(learning_rate=1.0000e-04, momentum=0.9)\n",
        "model.compile(loss=tf.keras.losses.Huber(),\n",
        "              optimizer=optimizer,\n",
        "              metrics=[\"mae\"])"
      ],
      "execution_count": 33,
      "outputs": []
    },
    {
      "cell_type": "markdown",
      "metadata": {
        "id": "4cp_9OR1UU6H"
      },
      "source": [
        "## **2. Train Data**"
      ]
    },
    {
      "cell_type": "code",
      "metadata": {
        "colab": {
          "base_uri": "https://localhost:8080/"
        },
        "id": "duKhBNCsUVWt",
        "outputId": "1d5aa4d0-e6af-4939-b9b5-ce89a9d58322"
      },
      "source": [
        "from keras.callbacks import EarlyStopping, ReduceLROnPlateau\n",
        "\n",
        "keras_dict = {\n",
        "      'x': X_train,\n",
        "      'y': y_train,\n",
        "      'validation_data': (X_test, y_test),\n",
        "      'batch_size': n_batchs,\n",
        "      'epochs': n_epochs,\n",
        "      'shuffle': False,\n",
        "      'callbacks': [\n",
        "           EarlyStopping(patience=10, restore_best_weights=True),\n",
        "           ReduceLROnPlateau(patience=8)\n",
        "      ]\n",
        "  }\n",
        "\n",
        "history = model.fit(**keras_dict)"
      ],
      "execution_count": 35,
      "outputs": [
        {
          "output_type": "stream",
          "text": [
            "Epoch 1/25\n",
            "77/77 [==============================] - 31s 359ms/step - loss: 3043.3901 - mae: 3043.8896 - val_loss: 3119.4272 - val_mae: 3119.9248\n",
            "Epoch 2/25\n",
            "77/77 [==============================] - 27s 349ms/step - loss: 3042.8516 - mae: 3043.3518 - val_loss: 3118.8328 - val_mae: 3119.3301\n",
            "Epoch 3/25\n",
            "77/77 [==============================] - 26s 346ms/step - loss: 3042.0139 - mae: 3042.5151 - val_loss: 3117.6414 - val_mae: 3118.1411\n",
            "Epoch 4/25\n",
            "77/77 [==============================] - 26s 346ms/step - loss: 3040.1350 - mae: 3040.6333 - val_loss: 3114.6738 - val_mae: 3115.1716\n",
            "Epoch 5/25\n",
            "77/77 [==============================] - 27s 349ms/step - loss: 3034.1243 - mae: 3034.6235 - val_loss: 3102.8936 - val_mae: 3103.3914\n",
            "Epoch 6/25\n",
            "77/77 [==============================] - 27s 349ms/step - loss: 2989.1162 - mae: 2989.6165 - val_loss: 2954.7742 - val_mae: 2955.2729\n",
            "Epoch 7/25\n",
            "77/77 [==============================] - 27s 354ms/step - loss: 1456.7965 - mae: 1457.2964 - val_loss: 690.3076 - val_mae: 690.8066\n",
            "Epoch 8/25\n",
            "77/77 [==============================] - 27s 349ms/step - loss: 623.4963 - mae: 623.9960 - val_loss: 711.1161 - val_mae: 711.6154\n",
            "Epoch 9/25\n",
            "77/77 [==============================] - 26s 345ms/step - loss: 631.6021 - mae: 632.1019 - val_loss: 724.6612 - val_mae: 725.1609\n",
            "Epoch 10/25\n",
            "77/77 [==============================] - 26s 346ms/step - loss: 630.9865 - mae: 631.4865 - val_loss: 729.6834 - val_mae: 730.1833\n",
            "Epoch 11/25\n",
            "77/77 [==============================] - 27s 348ms/step - loss: 632.0543 - mae: 632.5541 - val_loss: 733.6786 - val_mae: 734.1786\n",
            "Epoch 12/25\n",
            "77/77 [==============================] - 27s 350ms/step - loss: 632.1855 - mae: 632.6854 - val_loss: 735.0483 - val_mae: 735.5476\n",
            "Epoch 13/25\n",
            "77/77 [==============================] - 27s 352ms/step - loss: 631.9833 - mae: 632.4830 - val_loss: 739.1478 - val_mae: 739.6478\n",
            "Epoch 14/25\n",
            "77/77 [==============================] - 27s 351ms/step - loss: 634.0894 - mae: 634.5892 - val_loss: 745.2308 - val_mae: 745.7306\n",
            "Epoch 15/25\n",
            "77/77 [==============================] - 27s 349ms/step - loss: 632.8983 - mae: 633.3982 - val_loss: 741.9925 - val_mae: 742.4930\n",
            "Epoch 16/25\n",
            "77/77 [==============================] - 27s 348ms/step - loss: 476.1215 - mae: 476.6211 - val_loss: 472.9457 - val_mae: 473.4456\n",
            "Epoch 17/25\n",
            "77/77 [==============================] - 27s 348ms/step - loss: 462.1929 - mae: 462.6926 - val_loss: 471.3570 - val_mae: 471.8566\n",
            "Epoch 18/25\n",
            "77/77 [==============================] - 27s 354ms/step - loss: 462.3649 - mae: 462.8646 - val_loss: 471.3834 - val_mae: 471.8829\n",
            "Epoch 19/25\n",
            "77/77 [==============================] - 27s 350ms/step - loss: 462.3633 - mae: 462.8629 - val_loss: 471.3851 - val_mae: 471.8848\n",
            "Epoch 20/25\n",
            "77/77 [==============================] - 27s 351ms/step - loss: 462.3629 - mae: 462.8625 - val_loss: 471.3851 - val_mae: 471.8848\n",
            "Epoch 21/25\n",
            "77/77 [==============================] - 27s 352ms/step - loss: 462.3629 - mae: 462.8625 - val_loss: 471.3853 - val_mae: 471.8849\n",
            "Epoch 22/25\n",
            "77/77 [==============================] - 26s 346ms/step - loss: 462.3628 - mae: 462.8624 - val_loss: 471.3851 - val_mae: 471.8847\n",
            "Epoch 23/25\n",
            "77/77 [==============================] - 27s 354ms/step - loss: 462.3627 - mae: 462.8623 - val_loss: 471.3849 - val_mae: 471.8845\n",
            "Epoch 24/25\n",
            "77/77 [==============================] - 27s 351ms/step - loss: 462.3627 - mae: 462.8623 - val_loss: 471.3851 - val_mae: 471.8847\n",
            "Epoch 25/25\n",
            "77/77 [==============================] - 27s 349ms/step - loss: 462.3626 - mae: 462.8622 - val_loss: 471.3850 - val_mae: 471.8848\n"
          ],
          "name": "stdout"
        }
      ]
    },
    {
      "cell_type": "markdown",
      "metadata": {
        "id": "UzZfvK3WVPRB"
      },
      "source": [
        "## **3. Visualize Result**\n",
        "\n",
        "by create graph of it's MAE and loss "
      ]
    },
    {
      "cell_type": "code",
      "metadata": {
        "colab": {
          "base_uri": "https://localhost:8080/",
          "height": 541
        },
        "id": "oecpbw19U8EX",
        "outputId": "d5caf9cf-c088-4ecb-f63d-add32f507d33"
      },
      "source": [
        "import matplotlib.pyplot as plt\n",
        "\n",
        "def plot_graphs(history, string):\n",
        "  plt.plot(history.history[string])\n",
        "  plt.plot(history.history['val_'+string])\n",
        "  plt.xlabel(\"Epochs\")\n",
        "  plt.ylabel(string)\n",
        "  plt.legend([string, 'val_'+string])\n",
        "  plt.show()\n",
        "  \n",
        "plot_graphs(history, \"mae\")\n",
        "plot_graphs(history, \"loss\")"
      ],
      "execution_count": 36,
      "outputs": [
        {
          "output_type": "display_data",
          "data": {
            "image/png": "[encoded data removed]",
            "text/plain": [
              "<Figure size 432x288 with 1 Axes>"
            ]
          },
          "metadata": {
            "tags": [],
            "needs_background": "light"
          }
        },
        {
          "output_type": "display_data",
          "data": {
            "image/png": "[encoded data removed]",
            "text/plain": [
              "<Figure size 432x288 with 1 Axes>"
            ]
          },
          "metadata": {
            "tags": [],
            "needs_background": "light"
          }
        }
      ]
    },
    {
      "cell_type": "markdown",
      "metadata": {
        "id": "MMnj_OniZaql"
      },
      "source": [
        "here is relative MAE value to total data"
      ]
    },
    {
      "cell_type": "markdown",
      "metadata": {
        "id": "JvihBP9laaO2"
      },
      "source": [
        "**A. Train relative MAE**"
      ]
    },
    {
      "cell_type": "code",
      "metadata": {
        "colab": {
          "base_uri": "https://localhost:8080/"
        },
        "id": "g5juedOtZiSV",
        "outputId": "908206e6-e1c3-42f4-ee72-ce263a9769ef"
      },
      "source": [
        "print((462.8622/(df.shape[0] * train_test_ratio)) * 100, \"%\")"
      ],
      "execution_count": 44,
      "outputs": [
        {
          "output_type": "stream",
          "text": [
            "1.0020571017856215 %\n"
          ],
          "name": "stdout"
        }
      ]
    },
    {
      "cell_type": "markdown",
      "metadata": {
        "id": "z6ZSV77FahPW"
      },
      "source": [
        "**B. Test relative MAE**"
      ]
    },
    {
      "cell_type": "code",
      "metadata": {
        "colab": {
          "base_uri": "https://localhost:8080/"
        },
        "id": "lUeBhlF1Z2bx",
        "outputId": "b71cf3d4-894c-4c1a-b163-bb21a79a4c5c"
      },
      "source": [
        "print((471.8848/(df.shape[0] * (1 - train_test_ratio))) * 100, \"%\")"
      ],
      "execution_count": 45,
      "outputs": [
        {
          "output_type": "stream",
          "text": [
            "4.086361038466202 %\n"
          ],
          "name": "stdout"
        }
      ]
    },
    {
      "cell_type": "markdown",
      "metadata": {
        "id": "Tvn-FcHnazMH"
      },
      "source": [
        "# **E. Attachment**"
      ]
    },
    {
      "cell_type": "markdown",
      "metadata": {
        "id": "JeOnZVf9a_IQ"
      },
      "source": [
        "## **1. Old result with 100 epoch**"
      ]
    },
    {
      "cell_type": "code",
      "metadata": {
        "colab": {
          "base_uri": "https://localhost:8080/"
        },
        "id": "kosVjxlp-5R9",
        "outputId": "d8972dde-059b-4953-d5f9-2232012eeec8"
      },
      "source": [
        "import tensorflow as tf\n",
        "\n",
        "model = tf.keras.models.Sequential([\n",
        "  tf.keras.layers.LSTM(60, return_sequences=True),\n",
        "  tf.keras.layers.LSTM(60),\n",
        "  tf.keras.layers.Dense(30, activation=\"relu\"),\n",
        "  tf.keras.layers.Dense(10, activation=\"relu\"),\n",
        "  tf.keras.layers.Dense(1),\n",
        "])\n",
        "optimizer = tf.keras.optimizers.SGD(learning_rate=1.0000e-04, momentum=0.9)\n",
        "model.compile(loss=tf.keras.losses.Huber(),\n",
        "              optimizer=optimizer,\n",
        "              metrics=[\"mae\"])\n",
        "history = model.fit(train_set,epochs=100)"
      ],
      "execution_count": 19,
      "outputs": [
        {
          "output_type": "stream",
          "text": [
            "/usr/local/lib/python3.7/dist-packages/tensorflow/python/keras/optimizer_v2/optimizer_v2.py:375: UserWarning: The `lr` argument is deprecated, use `learning_rate` instead.\n",
            "  \"The `lr` argument is deprecated, use `learning_rate` instead.\")\n"
          ],
          "name": "stderr"
        },
        {
          "output_type": "stream",
          "text": [
            "Epoch 1/100\n",
            "80/80 [==============================] - 61s 705ms/step - loss: 3104.4976 - mae: 3104.9980\n",
            "Epoch 2/100\n",
            "80/80 [==============================] - 56s 698ms/step - loss: 3104.2542 - mae: 3104.7534\n",
            "Epoch 3/100\n",
            "80/80 [==============================] - 56s 695ms/step - loss: 3104.0127 - mae: 3104.5120\n",
            "Epoch 4/100\n",
            "80/80 [==============================] - 56s 692ms/step - loss: 3103.6660 - mae: 3104.1667\n",
            "Epoch 5/100\n",
            "80/80 [==============================] - 56s 695ms/step - loss: 3103.1023 - mae: 3103.6030\n",
            "Epoch 6/100\n",
            "80/80 [==============================] - 56s 701ms/step - loss: 3101.9717 - mae: 3102.4717\n",
            "Epoch 7/100\n",
            "80/80 [==============================] - 56s 697ms/step - loss: 3098.9619 - mae: 3099.4622\n",
            "Epoch 8/100\n",
            "80/80 [==============================] - 56s 695ms/step - loss: 3086.2959 - mae: 3086.7949\n",
            "Epoch 9/100\n",
            "80/80 [==============================] - 57s 705ms/step - loss: 2790.3955 - mae: 2790.8962\n",
            "Epoch 10/100\n",
            "80/80 [==============================] - 57s 701ms/step - loss: 553.3203 - mae: 553.8201\n",
            "Epoch 11/100\n",
            "80/80 [==============================] - 56s 700ms/step - loss: 471.1999 - mae: 471.6996\n",
            "Epoch 12/100\n",
            "80/80 [==============================] - 56s 701ms/step - loss: 470.2894 - mae: 470.7891\n",
            "Epoch 13/100\n",
            "80/80 [==============================] - 56s 696ms/step - loss: 470.3192 - mae: 470.8188\n",
            "Epoch 14/100\n",
            "80/80 [==============================] - 56s 692ms/step - loss: 470.4235 - mae: 470.9231\n",
            "Epoch 15/100\n",
            "80/80 [==============================] - 56s 694ms/step - loss: 470.4106 - mae: 470.9105\n",
            "Epoch 16/100\n",
            "80/80 [==============================] - 56s 695ms/step - loss: 470.3367 - mae: 470.8366\n",
            "Epoch 17/100\n",
            "80/80 [==============================] - 57s 702ms/step - loss: 470.2145 - mae: 470.7144\n",
            "Epoch 18/100\n",
            "80/80 [==============================] - 56s 699ms/step - loss: 470.2421 - mae: 470.7419\n",
            "Epoch 19/100\n",
            "80/80 [==============================] - 56s 695ms/step - loss: 470.1573 - mae: 470.6569\n",
            "Epoch 20/100\n",
            "80/80 [==============================] - 56s 699ms/step - loss: 470.2137 - mae: 470.7136\n",
            "Epoch 21/100\n",
            "80/80 [==============================] - 56s 695ms/step - loss: 470.1975 - mae: 470.6972\n",
            "Epoch 22/100\n",
            "80/80 [==============================] - 56s 696ms/step - loss: 470.3984 - mae: 470.8981\n",
            "Epoch 23/100\n",
            "80/80 [==============================] - 56s 696ms/step - loss: 470.5467 - mae: 471.0464\n",
            "Epoch 24/100\n",
            "80/80 [==============================] - 56s 700ms/step - loss: 470.3857 - mae: 470.8855\n",
            "Epoch 25/100\n",
            "80/80 [==============================] - 56s 694ms/step - loss: 470.3054 - mae: 470.8053\n",
            "Epoch 26/100\n",
            "80/80 [==============================] - 56s 696ms/step - loss: 469.8468 - mae: 470.3466\n",
            "Epoch 27/100\n",
            "80/80 [==============================] - 56s 692ms/step - loss: 470.0831 - mae: 470.5829\n",
            "Epoch 28/100\n",
            "80/80 [==============================] - 56s 692ms/step - loss: 470.4672 - mae: 470.9670\n",
            "Epoch 29/100\n",
            "80/80 [==============================] - 56s 691ms/step - loss: 470.4044 - mae: 470.9042\n",
            "Epoch 30/100\n",
            "80/80 [==============================] - 56s 697ms/step - loss: 470.1813 - mae: 470.6811\n",
            "Epoch 31/100\n",
            "80/80 [==============================] - 57s 701ms/step - loss: 469.9505 - mae: 470.4502\n",
            "Epoch 32/100\n",
            "80/80 [==============================] - 56s 694ms/step - loss: 470.5106 - mae: 471.0103\n",
            "Epoch 33/100\n",
            "80/80 [==============================] - 56s 699ms/step - loss: 470.3551 - mae: 470.8549\n",
            "Epoch 34/100\n",
            "80/80 [==============================] - 56s 692ms/step - loss: 470.1763 - mae: 470.6759\n",
            "Epoch 35/100\n",
            "80/80 [==============================] - 56s 698ms/step - loss: 470.0422 - mae: 470.5418\n",
            "Epoch 36/100\n",
            "80/80 [==============================] - 56s 693ms/step - loss: 469.9382 - mae: 470.4381\n",
            "Epoch 37/100\n",
            "80/80 [==============================] - 56s 695ms/step - loss: 470.5098 - mae: 471.0095\n",
            "Epoch 38/100\n",
            "80/80 [==============================] - 56s 697ms/step - loss: 470.1163 - mae: 470.6161\n",
            "Epoch 39/100\n",
            "80/80 [==============================] - 56s 696ms/step - loss: 470.0643 - mae: 470.5640\n",
            "Epoch 40/100\n",
            "80/80 [==============================] - 56s 695ms/step - loss: 470.3501 - mae: 470.8500\n",
            "Epoch 41/100\n",
            "80/80 [==============================] - 56s 698ms/step - loss: 470.5356 - mae: 471.0354\n",
            "Epoch 42/100\n",
            "80/80 [==============================] - 56s 694ms/step - loss: 470.6157 - mae: 471.1155\n",
            "Epoch 43/100\n",
            "80/80 [==============================] - 56s 697ms/step - loss: 470.2805 - mae: 470.7803\n",
            "Epoch 44/100\n",
            "80/80 [==============================] - 56s 689ms/step - loss: 470.5401 - mae: 471.0399\n",
            "Epoch 45/100\n",
            "80/80 [==============================] - 56s 689ms/step - loss: 470.5606 - mae: 471.0604\n",
            "Epoch 46/100\n",
            "80/80 [==============================] - 56s 698ms/step - loss: 470.1897 - mae: 470.6893\n",
            "Epoch 47/100\n",
            "80/80 [==============================] - 56s 694ms/step - loss: 470.1721 - mae: 470.6718\n",
            "Epoch 48/100\n",
            "80/80 [==============================] - 56s 694ms/step - loss: 470.8665 - mae: 471.3662\n",
            "Epoch 49/100\n",
            "80/80 [==============================] - 56s 692ms/step - loss: 470.9166 - mae: 471.4164\n",
            "Epoch 50/100\n",
            "80/80 [==============================] - 56s 695ms/step - loss: 470.3702 - mae: 470.8699\n",
            "Epoch 51/100\n",
            "80/80 [==============================] - 56s 697ms/step - loss: 470.1866 - mae: 470.6864\n",
            "Epoch 52/100\n",
            "80/80 [==============================] - 56s 692ms/step - loss: 470.1865 - mae: 470.6861\n",
            "Epoch 53/100\n",
            "80/80 [==============================] - 56s 693ms/step - loss: 470.2953 - mae: 470.7951\n",
            "Epoch 54/100\n",
            "80/80 [==============================] - 56s 690ms/step - loss: 470.4007 - mae: 470.9005\n",
            "Epoch 55/100\n",
            "80/80 [==============================] - 56s 691ms/step - loss: 470.3755 - mae: 470.8753\n",
            "Epoch 56/100\n",
            "80/80 [==============================] - 56s 696ms/step - loss: 470.4482 - mae: 470.9479\n",
            "Epoch 57/100\n",
            "80/80 [==============================] - 56s 691ms/step - loss: 470.2541 - mae: 470.7540\n",
            "Epoch 58/100\n",
            "80/80 [==============================] - 56s 691ms/step - loss: 470.5165 - mae: 471.0161\n",
            "Epoch 59/100\n",
            "80/80 [==============================] - 56s 692ms/step - loss: 470.6143 - mae: 471.1140\n",
            "Epoch 60/100\n",
            "80/80 [==============================] - 56s 693ms/step - loss: 470.4427 - mae: 470.9426\n",
            "Epoch 61/100\n",
            "80/80 [==============================] - 56s 694ms/step - loss: 470.2662 - mae: 470.7658\n",
            "Epoch 62/100\n",
            "80/80 [==============================] - 56s 693ms/step - loss: 470.4697 - mae: 470.9694\n",
            "Epoch 63/100\n",
            "80/80 [==============================] - 56s 695ms/step - loss: 470.5604 - mae: 471.0600\n",
            "Epoch 64/100\n",
            "80/80 [==============================] - 56s 693ms/step - loss: 470.1493 - mae: 470.6490\n",
            "Epoch 65/100\n",
            "80/80 [==============================] - 56s 697ms/step - loss: 470.2146 - mae: 470.7144\n",
            "Epoch 66/100\n",
            "80/80 [==============================] - 56s 693ms/step - loss: 470.3383 - mae: 470.8381\n",
            "Epoch 67/100\n",
            "80/80 [==============================] - 56s 698ms/step - loss: 470.2807 - mae: 470.7805\n",
            "Epoch 68/100\n",
            "80/80 [==============================] - 56s 694ms/step - loss: 470.0995 - mae: 470.5992\n",
            "Epoch 69/100\n",
            "80/80 [==============================] - 56s 699ms/step - loss: 470.1451 - mae: 470.6448\n",
            "Epoch 70/100\n",
            "80/80 [==============================] - 56s 695ms/step - loss: 470.6944 - mae: 471.1940\n",
            "Epoch 71/100\n",
            "80/80 [==============================] - 56s 691ms/step - loss: 470.5761 - mae: 471.0757\n",
            "Epoch 72/100\n",
            "80/80 [==============================] - 56s 693ms/step - loss: 470.4854 - mae: 470.9851\n",
            "Epoch 73/100\n",
            "80/80 [==============================] - 56s 694ms/step - loss: 470.1476 - mae: 470.6475\n",
            "Epoch 74/100\n",
            "80/80 [==============================] - 56s 700ms/step - loss: 470.6263 - mae: 471.1260\n",
            "Epoch 75/100\n",
            "80/80 [==============================] - 56s 696ms/step - loss: 470.6104 - mae: 471.1100\n",
            "Epoch 76/100\n",
            "80/80 [==============================] - 56s 698ms/step - loss: 470.4108 - mae: 470.9105\n",
            "Epoch 77/100\n",
            "80/80 [==============================] - 57s 702ms/step - loss: 470.3057 - mae: 470.8054\n",
            "Epoch 78/100\n",
            "80/80 [==============================] - 56s 697ms/step - loss: 470.5004 - mae: 471.0002\n",
            "Epoch 79/100\n",
            "80/80 [==============================] - 56s 696ms/step - loss: 470.7625 - mae: 471.2621\n",
            "Epoch 80/100\n",
            "80/80 [==============================] - 56s 695ms/step - loss: 470.0969 - mae: 470.5967\n",
            "Epoch 81/100\n",
            "80/80 [==============================] - 56s 697ms/step - loss: 470.2992 - mae: 470.7989\n",
            "Epoch 82/100\n",
            "80/80 [==============================] - 56s 696ms/step - loss: 470.3797 - mae: 470.8794\n",
            "Epoch 83/100\n",
            "80/80 [==============================] - 56s 698ms/step - loss: 470.1752 - mae: 470.6751\n",
            "Epoch 84/100\n",
            "80/80 [==============================] - 56s 701ms/step - loss: 469.9359 - mae: 470.4355\n",
            "Epoch 85/100\n",
            "80/80 [==============================] - 56s 700ms/step - loss: 470.1064 - mae: 470.6061\n",
            "Epoch 86/100\n",
            "80/80 [==============================] - 56s 697ms/step - loss: 470.2869 - mae: 470.7868\n",
            "Epoch 87/100\n",
            "80/80 [==============================] - 56s 699ms/step - loss: 470.2224 - mae: 470.7223\n",
            "Epoch 88/100\n",
            "80/80 [==============================] - 56s 695ms/step - loss: 470.1695 - mae: 470.6693\n",
            "Epoch 89/100\n",
            "80/80 [==============================] - 56s 696ms/step - loss: 470.1237 - mae: 470.6233\n",
            "Epoch 90/100\n",
            "80/80 [==============================] - 56s 701ms/step - loss: 470.2969 - mae: 470.7965\n",
            "Epoch 91/100\n",
            "80/80 [==============================] - 56s 696ms/step - loss: 470.0816 - mae: 470.5814\n",
            "Epoch 92/100\n",
            "80/80 [==============================] - 56s 696ms/step - loss: 470.4225 - mae: 470.9222\n",
            "Epoch 93/100\n",
            "80/80 [==============================] - 56s 698ms/step - loss: 470.4630 - mae: 470.9626\n",
            "Epoch 94/100\n",
            "80/80 [==============================] - 56s 699ms/step - loss: 469.9152 - mae: 470.4149\n",
            "Epoch 95/100\n",
            "80/80 [==============================] - 56s 696ms/step - loss: 470.1433 - mae: 470.6429\n",
            "Epoch 96/100\n",
            "80/80 [==============================] - 56s 697ms/step - loss: 470.5548 - mae: 471.0544\n",
            "Epoch 97/100\n",
            "80/80 [==============================] - 56s 696ms/step - loss: 470.4377 - mae: 470.9374\n",
            "Epoch 98/100\n",
            "80/80 [==============================] - 56s 694ms/step - loss: 470.4895 - mae: 470.9892\n",
            "Epoch 99/100\n",
            "80/80 [==============================] - 56s 697ms/step - loss: 470.8296 - mae: 471.3292\n",
            "Epoch 100/100\n",
            "80/80 [==============================] - 56s 694ms/step - loss: 470.5675 - mae: 471.0671\n"
          ],
          "name": "stdout"
        }
      ]
    }
  ]
}