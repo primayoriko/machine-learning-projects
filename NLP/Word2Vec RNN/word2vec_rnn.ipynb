{
  "nbformat": 4,
  "nbformat_minor": 2,
  "metadata": {
    "colab": {
      "name": "primayoriko_NLP.ipynb",
      "provenance": [],
      "collapsed_sections": []
    },
    "kernelspec": {
      "name": "python3",
      "display_name": "Python 3"
    },
    "language_info": {
      "name": "python"
    }
  },
  "cells": [
    {
      "cell_type": "code",
      "execution_count": 25,
      "source": [
        "!wget --no-check-certificate https://dumps.wikimedia.org/idwiki/latest/idwiki-latest-pages-articles.xml.bz2 -O ./idwiki-latest-pages-articles.xml.bz2"
      ],
      "outputs": [
        {
          "output_type": "stream",
          "name": "stdout",
          "text": [
            "--2021-09-25 12:41:13--  https://dumps.wikimedia.org/idwiki/latest/idwiki-latest-pages-articles.xml.bz2\n",
            "Resolving dumps.wikimedia.org (dumps.wikimedia.org)... 208.80.154.7, 2620:0:861:1:208:80:154:7\n",
            "Connecting to dumps.wikimedia.org (dumps.wikimedia.org)|208.80.154.7|:443... connected.\n",
            "HTTP request sent, awaiting response... 200 OK\n",
            "Length: 708987298 (676M) [application/octet-stream]\n",
            "Saving to: ‘./idwiki-latest-pages-articles.xml.bz2’\n",
            "\n",
            "./idwiki-latest-pag 100%[===================>] 676.14M  4.66MB/s    in 2m 25s  \n",
            "\n",
            "2021-09-25 12:43:38 (4.68 MB/s) - ‘./idwiki-latest-pages-articles.xml.bz2’ saved [708987298/708987298]\n",
            "\n"
          ]
        }
      ],
      "metadata": {
        "colab": {
          "base_uri": "https://localhost:8080/"
        },
        "id": "BF4XyR8juyGD",
        "outputId": "c12ebc65-10b4-4fad-8a3c-9f66a692132e"
      }
    },
    {
      "cell_type": "code",
      "execution_count": 1,
      "source": [
        "!wget --no-check-certificate https://raw.githubusercontent.com/taufiqhusada/NLP_Class_Works/main/data_worthcheck/test.csv?token=ALOWBURT7X74SJ3IWYGH6RDBLA4IY -O ./test.csv\n",
        "!wget --no-check-certificate https://raw.githubusercontent.com/taufiqhusada/NLP_Class_Works/main/data_worthcheck/train.csv?token=ALOWBUX542L7IOALRNKR42LBLBUJA -O ./train.csv\n",
        "!wget --no-check-certificate https://raw.githubusercontent.com/taufiqhusada/NLP_Class_Works/main/data_worthcheck/dev.csv?token=ALOWBUWGBX44TGQAO34UEBTBLBUIS -O ./dev.csv"
      ],
      "outputs": [
        {
          "output_type": "stream",
          "name": "stdout",
          "text": [
            "--2021-09-26 00:48:34--  https://raw.githubusercontent.com/taufiqhusada/NLP_Class_Works/main/data_worthcheck/test.csv?token=ALOWBURT7X74SJ3IWYGH6RDBLA4IY\n",
            "Resolving raw.githubusercontent.com (raw.githubusercontent.com)... 185.199.108.133, 185.199.109.133, 185.199.110.133, ...\n",
            "Connecting to raw.githubusercontent.com (raw.githubusercontent.com)|185.199.108.133|:443... connected.\n",
            "HTTP request sent, awaiting response... 200 OK\n",
            "Length: 273939 (268K) [text/plain]\n",
            "Saving to: ‘./test.csv’\n",
            "\n",
            "./test.csv          100%[===================>] 267.52K  --.-KB/s    in 0.04s   \n",
            "\n",
            "2021-09-26 00:48:34 (6.60 MB/s) - ‘./test.csv’ saved [273939/273939]\n",
            "\n",
            "--2021-09-26 00:48:35--  https://raw.githubusercontent.com/taufiqhusada/NLP_Class_Works/main/data_worthcheck/train.csv?token=ALOWBUX542L7IOALRNKR42LBLBUJA\n",
            "Resolving raw.githubusercontent.com (raw.githubusercontent.com)... 185.199.108.133, 185.199.109.133, 185.199.110.133, ...\n",
            "Connecting to raw.githubusercontent.com (raw.githubusercontent.com)|185.199.108.133|:443... connected.\n",
            "HTTP request sent, awaiting response... 200 OK\n",
            "Length: 2492177 (2.4M) [text/plain]\n",
            "Saving to: ‘./train.csv’\n",
            "\n",
            "./train.csv         100%[===================>]   2.38M  --.-KB/s    in 0.08s   \n",
            "\n",
            "2021-09-26 00:48:35 (30.8 MB/s) - ‘./train.csv’ saved [2492177/2492177]\n",
            "\n",
            "--2021-09-26 00:48:35--  https://raw.githubusercontent.com/taufiqhusada/NLP_Class_Works/main/data_worthcheck/dev.csv?token=ALOWBUWGBX44TGQAO34UEBTBLBUIS\n",
            "Resolving raw.githubusercontent.com (raw.githubusercontent.com)... 185.199.108.133, 185.199.111.133, 185.199.109.133, ...\n",
            "Connecting to raw.githubusercontent.com (raw.githubusercontent.com)|185.199.108.133|:443... connected.\n",
            "HTTP request sent, awaiting response... 200 OK\n",
            "Length: 273939 (268K) [text/plain]\n",
            "Saving to: ‘./dev.csv’\n",
            "\n",
            "./dev.csv           100%[===================>] 267.52K  --.-KB/s    in 0.04s   \n",
            "\n",
            "2021-09-26 00:48:36 (6.96 MB/s) - ‘./dev.csv’ saved [273939/273939]\n",
            "\n"
          ]
        }
      ],
      "metadata": {
        "colab": {
          "base_uri": "https://localhost:8080/"
        },
        "id": "nMdUrkbAkMTn",
        "outputId": "fa9705df-1fbb-4ae6-8e71-3cf79c628f2f"
      }
    },
    {
      "cell_type": "code",
      "execution_count": 2,
      "source": [
        "!wget --no-check-certificate https://raw.githubusercontent.com/haryoa/indo-collex/main/dict/inforformal-formal-Indonesian-dictionary.tsv -O ./inforformal-formal-Indonesian-dictionary.tsv"
      ],
      "outputs": [
        {
          "output_type": "stream",
          "name": "stdout",
          "text": [
            "--2021-09-26 00:48:39--  https://raw.githubusercontent.com/haryoa/indo-collex/main/dict/inforformal-formal-Indonesian-dictionary.tsv\n",
            "Resolving raw.githubusercontent.com (raw.githubusercontent.com)... 185.199.108.133, 185.199.109.133, 185.199.110.133, ...\n",
            "Connecting to raw.githubusercontent.com (raw.githubusercontent.com)|185.199.108.133|:443... connected.\n",
            "HTTP request sent, awaiting response... 200 OK\n",
            "Length: 39167 (38K) [text/plain]\n",
            "Saving to: ‘./inforformal-formal-Indonesian-dictionary.tsv’\n",
            "\n",
            "./inforformal-forma 100%[===================>]  38.25K  --.-KB/s    in 0.002s  \n",
            "\n",
            "2021-09-26 00:48:40 (15.5 MB/s) - ‘./inforformal-formal-Indonesian-dictionary.tsv’ saved [39167/39167]\n",
            "\n"
          ]
        }
      ],
      "metadata": {
        "colab": {
          "base_uri": "https://localhost:8080/"
        },
        "id": "hIpRaNTuf_fG",
        "outputId": "c67794df-234e-43a0-df4f-70c2a10a5e4e"
      }
    },
    {
      "cell_type": "code",
      "execution_count": 3,
      "source": [
        "!ls"
      ],
      "outputs": [
        {
          "output_type": "stream",
          "name": "stdout",
          "text": [
            "dev.csv\t\t\t\t\t       sample_data\n",
            "inforformal-formal-Indonesian-dictionary.tsv   test.csv\n",
            "keyedvector_w2vec_wiki_id48_0.txt\t       train.csv\n",
            "keyedvector_w2vec_wiki_id48_0.txt.vectors.npy\n"
          ]
        }
      ],
      "metadata": {
        "colab": {
          "base_uri": "https://localhost:8080/"
        },
        "id": "5bgh59lfghqv",
        "outputId": "5bf9f13b-400f-4e39-b91c-44a8c4466ac9"
      }
    },
    {
      "cell_type": "code",
      "execution_count": 4,
      "source": [
        "import logging\n",
        "import os.path\n",
        "import sys\n",
        "import warnings\n",
        "\n",
        "def setup_logger():\n",
        "  warnings.filterwarnings(action='ignore', category=UserWarning, module='gensim')\n",
        "  logging.basicConfig(format='%(asctime)s: %(levelname)s: %(message)s')\n",
        "  logging.root.setLevel(level=logging.INFO)\n",
        "  program = os.path.basename(sys.argv[0])\n",
        "  logger = logging.getLogger(program)\n",
        "  logger.info(\"running %s\" % ' '.join(sys.argv))\n",
        "\n",
        "  return logger\n",
        "  \n",
        "logger = setup_logger()"
      ],
      "outputs": [
        {
          "output_type": "stream",
          "name": "stderr",
          "text": [
            "2021-09-26 00:48:56,318: INFO: running /usr/local/lib/python3.7/dist-packages/ipykernel_launcher.py -f /root/.local/share/jupyter/runtime/kernel-c24ae10c-5db1-4bd5-a1d4-25663986467c.json\n"
          ]
        }
      ],
      "metadata": {
        "colab": {
          "base_uri": "https://localhost:8080/"
        },
        "id": "DUFaqX37Bksr",
        "outputId": "6fc000fe-8b10-406a-d459-7d04148f00ce"
      }
    },
    {
      "cell_type": "code",
      "execution_count": 31,
      "source": [
        "from gensim.corpora import WikiCorpus\n",
        " \n",
        "\n",
        "def create_corpus(input_file_name, output_file_name):\n",
        "  output = open(output_file_name, 'w', encoding='utf-8')\n",
        "  \n",
        "  wiki = WikiCorpus(input_file_name, lemmatize=False, dictionary={}, lower=False)\n",
        "  \n",
        "  i = 0\n",
        "  for text in wiki.get_texts():\n",
        "      output.write(' '.join(text) + '\\n')\n",
        "      i = i + 1\n",
        "      if i % 10000 == 0:\n",
        "          logger.info(f\"Saved {i} articles\")\n",
        "  \n",
        "  output.close()\n",
        "  logger.info(f\"Finished Saved {i} articles\")\n"
      ],
      "outputs": [
        {
          "output_type": "stream",
          "name": "stderr",
          "text": [
            "2021-09-25 12:46:35,815: INFO: running /usr/local/lib/python3.7/dist-packages/ipykernel_launcher.py -f /root/.local/share/jupyter/runtime/kernel-658245b8-463b-4a72-81ba-752b46299093.json\n",
            "2021-09-25 12:48:08,817: INFO: Saved 10000 articles\n",
            "2021-09-25 12:49:10,911: INFO: Saved 20000 articles\n",
            "2021-09-25 12:50:03,779: INFO: Saved 30000 articles\n",
            "2021-09-25 12:50:50,113: INFO: Saved 40000 articles\n",
            "2021-09-25 12:51:39,345: INFO: Saved 50000 articles\n",
            "2021-09-25 12:52:22,716: INFO: Saved 60000 articles\n",
            "2021-09-25 12:53:08,555: INFO: Saved 70000 articles\n",
            "2021-09-25 12:53:59,962: INFO: Saved 80000 articles\n",
            "2021-09-25 12:54:54,858: INFO: Saved 90000 articles\n",
            "2021-09-25 12:55:44,452: INFO: Saved 100000 articles\n",
            "2021-09-25 12:56:30,367: INFO: Saved 110000 articles\n",
            "2021-09-25 12:57:10,485: INFO: Saved 120000 articles\n",
            "2021-09-25 12:58:05,545: INFO: Saved 130000 articles\n",
            "2021-09-25 12:58:50,626: INFO: Saved 140000 articles\n",
            "2021-09-25 12:59:19,793: INFO: Saved 150000 articles\n",
            "2021-09-25 12:59:31,127: INFO: Saved 160000 articles\n",
            "2021-09-25 12:59:44,115: INFO: Saved 170000 articles\n",
            "2021-09-25 12:59:54,432: INFO: Saved 180000 articles\n",
            "2021-09-25 13:00:04,897: INFO: Saved 190000 articles\n",
            "2021-09-25 13:00:15,021: INFO: Saved 200000 articles\n",
            "2021-09-25 13:00:25,227: INFO: Saved 210000 articles\n",
            "2021-09-25 13:00:34,726: INFO: Saved 220000 articles\n",
            "2021-09-25 13:00:43,288: INFO: Saved 230000 articles\n",
            "2021-09-25 13:00:51,641: INFO: Saved 240000 articles\n",
            "2021-09-25 13:01:05,203: INFO: Saved 250000 articles\n",
            "2021-09-25 13:01:50,832: INFO: Saved 260000 articles\n",
            "2021-09-25 13:02:22,487: INFO: Saved 270000 articles\n",
            "2021-09-25 13:03:05,809: INFO: Saved 280000 articles\n",
            "2021-09-25 13:03:50,495: INFO: Saved 290000 articles\n",
            "2021-09-25 13:04:34,209: INFO: Saved 300000 articles\n",
            "2021-09-25 13:05:19,921: INFO: Saved 310000 articles\n",
            "2021-09-25 13:06:42,768: INFO: Saved 320000 articles\n",
            "2021-09-25 13:07:31,337: INFO: Saved 330000 articles\n",
            "2021-09-25 13:08:12,962: INFO: Saved 340000 articles\n",
            "2021-09-25 13:08:56,064: INFO: Saved 350000 articles\n",
            "2021-09-25 13:09:39,920: INFO: Saved 360000 articles\n",
            "2021-09-25 13:10:27,885: INFO: Saved 370000 articles\n",
            "2021-09-25 13:11:26,275: INFO: Saved 380000 articles\n",
            "2021-09-25 13:12:09,596: INFO: Saved 390000 articles\n",
            "2021-09-25 13:12:49,914: INFO: Saved 400000 articles\n",
            "2021-09-25 13:13:30,702: INFO: Saved 410000 articles\n",
            "2021-09-25 13:14:12,883: INFO: Saved 420000 articles\n",
            "2021-09-25 13:14:50,523: INFO: Saved 430000 articles\n",
            "2021-09-25 13:15:28,755: INFO: Saved 440000 articles\n",
            "2021-09-25 13:15:39,832: INFO: finished iterating over Wikipedia corpus of 443070 documents with 123805428 positions (total 1422158 articles, 130579518 positions before pruning articles shorter than 50 words)\n",
            "2021-09-25 13:15:39,942: INFO: Finished Saved 443070 articles\n"
          ]
        }
      ],
      "metadata": {
        "colab": {
          "base_uri": "https://localhost:8080/"
        },
        "id": "cRJQuSRn-eoU",
        "outputId": "96d5da5a-85b5-4f18-c6ec-bee9d7b38fbd"
      }
    },
    {
      "cell_type": "code",
      "execution_count": null,
      "source": [
        "input_file_name = \"idwiki-latest-pages-articles.xml.bz2\"\n",
        "output_file_name = \"id.text\" \n",
        "\n",
        "# create_corpus(input_file_name=input_file_name, output_file_name=output_file_name)"
      ],
      "outputs": [],
      "metadata": {
        "id": "wXyoInWAlHJa"
      }
    },
    {
      "cell_type": "code",
      "execution_count": 5,
      "source": [
        "import multiprocessing\n",
        "from gensim.models import Word2Vec\n",
        "from gensim.models.word2vec import LineSentence\n",
        " \n",
        "input_file_name = \"id.text\"\n",
        "output_file_name = \"w2vec_wiki_id48_0.txt\"\n",
        "keyed_vector_output_file_name = \"keyedvector_w2vec_wiki_id48_0.txt\"\n",
        " \n",
        "# model = Word2Vec(LineSentence(input_file_name), size=48, window=4, min_count=4, sg=0, workers=multiprocessing.cpu_count())\n",
        " \n",
        "# model.init_sims(replace=True)\n",
        "# model.wv.save_word2vec_format(output_file_name, binary=False)\n",
        "# model.wv.save(keyed_vector_output_file_name)\n",
        "\n",
        "# model = gensim.models.Word2Vec.load(output_file_name)"
      ],
      "outputs": [
        {
          "output_type": "stream",
          "name": "stderr",
          "text": [
            "2021-09-26 00:50:26,905: INFO: 'pattern' package not found; tag filters are not available for English\n"
          ]
        }
      ],
      "metadata": {
        "colab": {
          "base_uri": "https://localhost:8080/"
        },
        "id": "7er3oWCJ_5oS",
        "outputId": "0ee4e22a-6f51-4254-ebb5-fe7fbfdd4020"
      }
    },
    {
      "cell_type": "code",
      "execution_count": 14,
      "source": [
        "class CustomDataset():\n",
        "    LABEL2INDEX = {'no': 0, 'yes': 1,}\n",
        "    INDEX2LABEL = {0: 'no', 1: 'yes'}\n",
        "    NUM_LABELS = 2\n",
        "    \n",
        "    def __init__(self, dataset_path, *args, **kwargs):\n",
        "        df = pd.read_csv(dataset_path)\n",
        "        df['label'] = df['label'].apply(lambda lab: self.LABEL2INDEX[lab])\n",
        "        self.data = df\n",
        "    \n",
        "    def __getitem__(self, index):\n",
        "        data = self.data.loc[index,:]\n",
        "        return data['text_a'], data['label']\n",
        "        # subwords = self.tokenizer.encode(text)\n",
        "        # return np.array(subwords), np.array(label), data['text_a']\n",
        "    \n",
        "    def __len__(self):\n",
        "        return len(self.data)  \n",
        "\n",
        "    def get_labels(self):\n",
        "      return self.data['label']\n",
        "\n",
        "    def get_texts(self):\n",
        "      return self.data['text_a']\n",
        "      \n",
        "    def apply_to_data(self, transform_func):\n",
        "      self.data['text_a'] = self.data['text_a'].apply(transform_func)  "
      ],
      "outputs": [],
      "metadata": {
        "id": "tGED8DGmft_4"
      }
    },
    {
      "cell_type": "code",
      "execution_count": 45,
      "source": [
        "import numpy as np\n",
        "from gensim.models import KeyedVectors\n",
        "\n",
        "keyed_vector_model = KeyedVectors.load(keyed_vector_output_file_name)"
      ],
      "outputs": [
        {
          "output_type": "stream",
          "name": "stderr",
          "text": [
            "2021-09-26 01:18:00,133: INFO: loading Word2VecKeyedVectors object from keyedvector_w2vec_wiki_id48_0.txt\n",
            "2021-09-26 01:18:01,796: INFO: loading vectors from keyedvector_w2vec_wiki_id48_0.txt.vectors.npy with mmap=None\n",
            "2021-09-26 01:18:01,852: INFO: setting ignored attribute vectors_norm to None\n",
            "2021-09-26 01:18:01,854: INFO: loaded keyedvector_w2vec_wiki_id48_0.txt\n"
          ]
        }
      ],
      "metadata": {
        "colab": {
          "base_uri": "https://localhost:8080/"
        },
        "id": "sj_ync3XrfMx",
        "outputId": "0c581642-76f4-4048-ffa3-e530305b354b"
      }
    },
    {
      "cell_type": "code",
      "execution_count": 7,
      "source": [
        "train_dataset_path = 'train.csv'\n",
        "test_dataset_path = 'test.csv'\n",
        "dev_dataset_path = 'dev.csv'"
      ],
      "outputs": [],
      "metadata": {
        "id": "GpT8pTCwhJM6"
      }
    },
    {
      "cell_type": "code",
      "execution_count": 9,
      "source": [
        "import pandas as pd\n",
        "\n",
        "train_dataset = CustomDataset(train_dataset_path, lowercase=True)\n",
        "test_dataset = CustomDataset(test_dataset_path, lowercase=True)\n",
        "dev_dataset = CustomDataset(dev_dataset_path, lowercase=True)"
      ],
      "outputs": [],
      "metadata": {
        "id": "Ef5sbSaRgzrM"
      }
    },
    {
      "cell_type": "code",
      "execution_count": null,
      "source": [
        "train_dataset.data.head()"
      ],
      "outputs": [
        {
          "output_type": "execute_result",
          "data": {
            "text/plain": [
              "   Unnamed: 0                                             text_a label\n",
              "0           0  betewe buka twitter cuman ngetweet liat home b...    no\n",
              "1           1  mas piyuuu mugo2 corona tuh mulut tersumpal ma...    no\n",
              "2           2  e100ss gini buka informasi sejelas nya identit...   yes\n",
              "3           3  neng solo wes ono terduga corona cobo neng ati...    no\n",
              "4           4  midiahn nii akun gak takut takut nya isu coron...    no"
            ],
            "text/html": [
              "<div>\n",
              "<style scoped>\n",
              "    .dataframe tbody tr th:only-of-type {\n",
              "        vertical-align: middle;\n",
              "    }\n",
              "\n",
              "    .dataframe tbody tr th {\n",
              "        vertical-align: top;\n",
              "    }\n",
              "\n",
              "    .dataframe thead th {\n",
              "        text-align: right;\n",
              "    }\n",
              "</style>\n",
              "<table border=\"1\" class=\"dataframe\">\n",
              "  <thead>\n",
              "    <tr style=\"text-align: right;\">\n",
              "      <th></th>\n",
              "      <th>Unnamed: 0</th>\n",
              "      <th>text_a</th>\n",
              "      <th>label</th>\n",
              "    </tr>\n",
              "  </thead>\n",
              "  <tbody>\n",
              "    <tr>\n",
              "      <th>0</th>\n",
              "      <td>0</td>\n",
              "      <td>betewe buka twitter cuman ngetweet liat home b...</td>\n",
              "      <td>no</td>\n",
              "    </tr>\n",
              "    <tr>\n",
              "      <th>1</th>\n",
              "      <td>1</td>\n",
              "      <td>mas piyuuu mugo2 corona tuh mulut tersumpal ma...</td>\n",
              "      <td>no</td>\n",
              "    </tr>\n",
              "    <tr>\n",
              "      <th>2</th>\n",
              "      <td>2</td>\n",
              "      <td>e100ss gini buka informasi sejelas nya identit...</td>\n",
              "      <td>yes</td>\n",
              "    </tr>\n",
              "    <tr>\n",
              "      <th>3</th>\n",
              "      <td>3</td>\n",
              "      <td>neng solo wes ono terduga corona cobo neng ati...</td>\n",
              "      <td>no</td>\n",
              "    </tr>\n",
              "    <tr>\n",
              "      <th>4</th>\n",
              "      <td>4</td>\n",
              "      <td>midiahn nii akun gak takut takut nya isu coron...</td>\n",
              "      <td>no</td>\n",
              "    </tr>\n",
              "  </tbody>\n",
              "</table>\n",
              "</div>"
            ]
          },
          "metadata": {},
          "execution_count": 5
        }
      ],
      "metadata": {
        "colab": {
          "base_uri": "https://localhost:8080/",
          "height": 202
        },
        "id": "U_AuqXnZql9F",
        "outputId": "15588088-5821-4363-b208-59ef658f7737"
      }
    },
    {
      "cell_type": "code",
      "execution_count": null,
      "source": [
        "dev_dataset.data.head()"
      ],
      "outputs": [
        {
          "output_type": "execute_result",
          "data": {
            "text/plain": [
              "                                              text_a label\n",
              "0                            jek dajal ga depok bang    no\n",
              "1  detikcom untung depok masuk wilayah nya ridwan...    no\n",
              "2  df dom jakarta depok yg gunain vc cabang nya c...    no\n",
              "3                                  your2rl depok jkt    no\n",
              "4  doakan indonesia selamat virus corona pkb depo...   yes"
            ],
            "text/html": [
              "<div>\n",
              "<style scoped>\n",
              "    .dataframe tbody tr th:only-of-type {\n",
              "        vertical-align: middle;\n",
              "    }\n",
              "\n",
              "    .dataframe tbody tr th {\n",
              "        vertical-align: top;\n",
              "    }\n",
              "\n",
              "    .dataframe thead th {\n",
              "        text-align: right;\n",
              "    }\n",
              "</style>\n",
              "<table border=\"1\" class=\"dataframe\">\n",
              "  <thead>\n",
              "    <tr style=\"text-align: right;\">\n",
              "      <th></th>\n",
              "      <th>text_a</th>\n",
              "      <th>label</th>\n",
              "    </tr>\n",
              "  </thead>\n",
              "  <tbody>\n",
              "    <tr>\n",
              "      <th>0</th>\n",
              "      <td>jek dajal ga depok bang</td>\n",
              "      <td>no</td>\n",
              "    </tr>\n",
              "    <tr>\n",
              "      <th>1</th>\n",
              "      <td>detikcom untung depok masuk wilayah nya ridwan...</td>\n",
              "      <td>no</td>\n",
              "    </tr>\n",
              "    <tr>\n",
              "      <th>2</th>\n",
              "      <td>df dom jakarta depok yg gunain vc cabang nya c...</td>\n",
              "      <td>no</td>\n",
              "    </tr>\n",
              "    <tr>\n",
              "      <th>3</th>\n",
              "      <td>your2rl depok jkt</td>\n",
              "      <td>no</td>\n",
              "    </tr>\n",
              "    <tr>\n",
              "      <th>4</th>\n",
              "      <td>doakan indonesia selamat virus corona pkb depo...</td>\n",
              "      <td>yes</td>\n",
              "    </tr>\n",
              "  </tbody>\n",
              "</table>\n",
              "</div>"
            ]
          },
          "metadata": {},
          "execution_count": 4
        }
      ],
      "metadata": {
        "colab": {
          "base_uri": "https://localhost:8080/",
          "height": 202
        },
        "id": "g9lzkAFwlRhL",
        "outputId": "bbf6e39d-b346-494e-f605-82ef1579c1d9"
      }
    },
    {
      "cell_type": "code",
      "execution_count": null,
      "source": [
        "test_dataset.data.head()"
      ],
      "outputs": [
        {
          "output_type": "execute_result",
          "data": {
            "text/plain": [
              "                                              text_a label\n",
              "0                            jek dajal ga depok bang    no\n",
              "1  detikcom untung depok masuk wilayah nya ridwan...    no\n",
              "2  df dom jakarta depok yg gunain vc cabang nya c...    no\n",
              "3                                  your2rl depok jkt    no\n",
              "4  doakan indonesia selamat virus corona pkb depo...   yes"
            ],
            "text/html": [
              "<div>\n",
              "<style scoped>\n",
              "    .dataframe tbody tr th:only-of-type {\n",
              "        vertical-align: middle;\n",
              "    }\n",
              "\n",
              "    .dataframe tbody tr th {\n",
              "        vertical-align: top;\n",
              "    }\n",
              "\n",
              "    .dataframe thead th {\n",
              "        text-align: right;\n",
              "    }\n",
              "</style>\n",
              "<table border=\"1\" class=\"dataframe\">\n",
              "  <thead>\n",
              "    <tr style=\"text-align: right;\">\n",
              "      <th></th>\n",
              "      <th>text_a</th>\n",
              "      <th>label</th>\n",
              "    </tr>\n",
              "  </thead>\n",
              "  <tbody>\n",
              "    <tr>\n",
              "      <th>0</th>\n",
              "      <td>jek dajal ga depok bang</td>\n",
              "      <td>no</td>\n",
              "    </tr>\n",
              "    <tr>\n",
              "      <th>1</th>\n",
              "      <td>detikcom untung depok masuk wilayah nya ridwan...</td>\n",
              "      <td>no</td>\n",
              "    </tr>\n",
              "    <tr>\n",
              "      <th>2</th>\n",
              "      <td>df dom jakarta depok yg gunain vc cabang nya c...</td>\n",
              "      <td>no</td>\n",
              "    </tr>\n",
              "    <tr>\n",
              "      <th>3</th>\n",
              "      <td>your2rl depok jkt</td>\n",
              "      <td>no</td>\n",
              "    </tr>\n",
              "    <tr>\n",
              "      <th>4</th>\n",
              "      <td>doakan indonesia selamat virus corona pkb depo...</td>\n",
              "      <td>yes</td>\n",
              "    </tr>\n",
              "  </tbody>\n",
              "</table>\n",
              "</div>"
            ]
          },
          "metadata": {},
          "execution_count": 6
        }
      ],
      "metadata": {
        "colab": {
          "base_uri": "https://localhost:8080/",
          "height": 202
        },
        "id": "MO17OEDOqpGi",
        "outputId": "b8a9173f-aa23-497f-f8fd-f3694ee73d59"
      }
    },
    {
      "cell_type": "code",
      "execution_count": null,
      "source": [
        "train_dataset.data.describe()"
      ],
      "outputs": [
        {
          "output_type": "execute_result",
          "data": {
            "text/plain": [
              "         Unnamed: 0\n",
              "count  21601.000000\n",
              "mean   10800.000000\n",
              "std     6235.815918\n",
              "min        0.000000\n",
              "25%     5400.000000\n",
              "50%    10800.000000\n",
              "75%    16200.000000\n",
              "max    21600.000000"
            ],
            "text/html": [
              "<div>\n",
              "<style scoped>\n",
              "    .dataframe tbody tr th:only-of-type {\n",
              "        vertical-align: middle;\n",
              "    }\n",
              "\n",
              "    .dataframe tbody tr th {\n",
              "        vertical-align: top;\n",
              "    }\n",
              "\n",
              "    .dataframe thead th {\n",
              "        text-align: right;\n",
              "    }\n",
              "</style>\n",
              "<table border=\"1\" class=\"dataframe\">\n",
              "  <thead>\n",
              "    <tr style=\"text-align: right;\">\n",
              "      <th></th>\n",
              "      <th>Unnamed: 0</th>\n",
              "    </tr>\n",
              "  </thead>\n",
              "  <tbody>\n",
              "    <tr>\n",
              "      <th>count</th>\n",
              "      <td>21601.000000</td>\n",
              "    </tr>\n",
              "    <tr>\n",
              "      <th>mean</th>\n",
              "      <td>10800.000000</td>\n",
              "    </tr>\n",
              "    <tr>\n",
              "      <th>std</th>\n",
              "      <td>6235.815918</td>\n",
              "    </tr>\n",
              "    <tr>\n",
              "      <th>min</th>\n",
              "      <td>0.000000</td>\n",
              "    </tr>\n",
              "    <tr>\n",
              "      <th>25%</th>\n",
              "      <td>5400.000000</td>\n",
              "    </tr>\n",
              "    <tr>\n",
              "      <th>50%</th>\n",
              "      <td>10800.000000</td>\n",
              "    </tr>\n",
              "    <tr>\n",
              "      <th>75%</th>\n",
              "      <td>16200.000000</td>\n",
              "    </tr>\n",
              "    <tr>\n",
              "      <th>max</th>\n",
              "      <td>21600.000000</td>\n",
              "    </tr>\n",
              "  </tbody>\n",
              "</table>\n",
              "</div>"
            ]
          },
          "metadata": {},
          "execution_count": 11
        }
      ],
      "metadata": {
        "colab": {
          "base_uri": "https://localhost:8080/",
          "height": 294
        },
        "id": "mdrhnit9q7ol",
        "outputId": "02de41be-38c0-4788-a024-a09dfdc6e03f"
      }
    },
    {
      "cell_type": "code",
      "execution_count": null,
      "source": [
        "dev_dataset.data.describe()"
      ],
      "outputs": [
        {
          "output_type": "execute_result",
          "data": {
            "text/plain": [
              "               text_a label\n",
              "count            2800  2800\n",
              "unique           2797     2\n",
              "top     info covid 19    no\n",
              "freq                2  2093"
            ],
            "text/html": [
              "<div>\n",
              "<style scoped>\n",
              "    .dataframe tbody tr th:only-of-type {\n",
              "        vertical-align: middle;\n",
              "    }\n",
              "\n",
              "    .dataframe tbody tr th {\n",
              "        vertical-align: top;\n",
              "    }\n",
              "\n",
              "    .dataframe thead th {\n",
              "        text-align: right;\n",
              "    }\n",
              "</style>\n",
              "<table border=\"1\" class=\"dataframe\">\n",
              "  <thead>\n",
              "    <tr style=\"text-align: right;\">\n",
              "      <th></th>\n",
              "      <th>text_a</th>\n",
              "      <th>label</th>\n",
              "    </tr>\n",
              "  </thead>\n",
              "  <tbody>\n",
              "    <tr>\n",
              "      <th>count</th>\n",
              "      <td>2800</td>\n",
              "      <td>2800</td>\n",
              "    </tr>\n",
              "    <tr>\n",
              "      <th>unique</th>\n",
              "      <td>2797</td>\n",
              "      <td>2</td>\n",
              "    </tr>\n",
              "    <tr>\n",
              "      <th>top</th>\n",
              "      <td>info covid 19</td>\n",
              "      <td>no</td>\n",
              "    </tr>\n",
              "    <tr>\n",
              "      <th>freq</th>\n",
              "      <td>2</td>\n",
              "      <td>2093</td>\n",
              "    </tr>\n",
              "  </tbody>\n",
              "</table>\n",
              "</div>"
            ]
          },
          "metadata": {},
          "execution_count": 7
        }
      ],
      "metadata": {
        "colab": {
          "base_uri": "https://localhost:8080/",
          "height": 171
        },
        "id": "QD3QlVJflRjq",
        "outputId": "b279890d-732f-45d1-8515-54af32349877"
      }
    },
    {
      "cell_type": "code",
      "execution_count": null,
      "source": [
        "test_dataset.data.describe()"
      ],
      "outputs": [
        {
          "output_type": "execute_result",
          "data": {
            "text/plain": [
              "               text_a label\n",
              "count            2800  2800\n",
              "unique           2797     2\n",
              "top     info covid 19    no\n",
              "freq                2  2093"
            ],
            "text/html": [
              "<div>\n",
              "<style scoped>\n",
              "    .dataframe tbody tr th:only-of-type {\n",
              "        vertical-align: middle;\n",
              "    }\n",
              "\n",
              "    .dataframe tbody tr th {\n",
              "        vertical-align: top;\n",
              "    }\n",
              "\n",
              "    .dataframe thead th {\n",
              "        text-align: right;\n",
              "    }\n",
              "</style>\n",
              "<table border=\"1\" class=\"dataframe\">\n",
              "  <thead>\n",
              "    <tr style=\"text-align: right;\">\n",
              "      <th></th>\n",
              "      <th>text_a</th>\n",
              "      <th>label</th>\n",
              "    </tr>\n",
              "  </thead>\n",
              "  <tbody>\n",
              "    <tr>\n",
              "      <th>count</th>\n",
              "      <td>2800</td>\n",
              "      <td>2800</td>\n",
              "    </tr>\n",
              "    <tr>\n",
              "      <th>unique</th>\n",
              "      <td>2797</td>\n",
              "      <td>2</td>\n",
              "    </tr>\n",
              "    <tr>\n",
              "      <th>top</th>\n",
              "      <td>info covid 19</td>\n",
              "      <td>no</td>\n",
              "    </tr>\n",
              "    <tr>\n",
              "      <th>freq</th>\n",
              "      <td>2</td>\n",
              "      <td>2093</td>\n",
              "    </tr>\n",
              "  </tbody>\n",
              "</table>\n",
              "</div>"
            ]
          },
          "metadata": {},
          "execution_count": 10
        }
      ],
      "metadata": {
        "colab": {
          "base_uri": "https://localhost:8080/",
          "height": 171
        },
        "id": "92iRsv6FrAix",
        "outputId": "12e865f6-5948-43ed-b47c-cc453259aca3"
      }
    },
    {
      "cell_type": "code",
      "execution_count": null,
      "source": [
        "train_dataset.data.shape"
      ],
      "outputs": [
        {
          "output_type": "execute_result",
          "data": {
            "text/plain": [
              "(21601, 3)"
            ]
          },
          "metadata": {},
          "execution_count": 12
        }
      ],
      "metadata": {
        "colab": {
          "base_uri": "https://localhost:8080/"
        },
        "id": "EIfS-P7KlXSZ",
        "outputId": "14476efe-554a-4e73-a51c-e8d5aae610ff"
      }
    },
    {
      "cell_type": "code",
      "execution_count": null,
      "source": [
        "dev_dataset.data.shape"
      ],
      "outputs": [
        {
          "output_type": "execute_result",
          "data": {
            "text/plain": [
              "(2800, 2)"
            ]
          },
          "metadata": {},
          "execution_count": 13
        }
      ],
      "metadata": {
        "colab": {
          "base_uri": "https://localhost:8080/"
        },
        "id": "M1xh_50cranU",
        "outputId": "80c8fe71-2bb4-4d0c-c9a8-2703d285788d"
      }
    },
    {
      "cell_type": "code",
      "execution_count": null,
      "source": [
        "test_dataset.data.shape"
      ],
      "outputs": [
        {
          "output_type": "execute_result",
          "data": {
            "text/plain": [
              "(2800, 2)"
            ]
          },
          "metadata": {},
          "execution_count": 14
        }
      ],
      "metadata": {
        "colab": {
          "base_uri": "https://localhost:8080/"
        },
        "id": "PIqLdmF0rdMq",
        "outputId": "3f21bf90-d57c-44ce-f2b4-30e00be678a6"
      }
    },
    {
      "cell_type": "code",
      "execution_count": 10,
      "source": [
        "import pandas as pd\n",
        "\n",
        "df = pd.read_csv('inforformal-formal-Indonesian-dictionary.tsv', sep='\\t')\n",
        "dict_informal_to_formal = {}\n",
        "for i, row in df.iterrows():\n",
        "  dict_informal_to_formal[row['informal']] = row['formal']\n",
        "dict_informal_to_formal\n",
        "\n",
        "def convert_to_formal_text(s):\n",
        "  preprocessed_s = \"\"\n",
        "  for word in s.split():\n",
        "    if word in dict_informal_to_formal:\n",
        "      word = dict_informal_to_formal[word]\n",
        "    preprocessed_s += word + \" \"\n",
        "  return preprocessed_s"
      ],
      "outputs": [],
      "metadata": {
        "id": "5H767YT9WSy8"
      }
    },
    {
      "cell_type": "code",
      "execution_count": 47,
      "source": [
        "def create_embedding_matrix(tokenizer, model, embedding_dim=48):\n",
        "  vocab_size = len(tokenizer.word_index) + 1\n",
        "  embedding_matrix = np.zeros((vocab_size, embedding_dim))\n",
        "  for word, i in tokenizer.word_index.items():\n",
        "    if word in model.wv.vocab: \n",
        "      embedding_matrix[i] = model[word]\n",
        "  return embedding_matrix"
      ],
      "outputs": [],
      "metadata": {
        "id": "8mTPyRCWrwPp"
      }
    },
    {
      "cell_type": "code",
      "execution_count": 38,
      "source": [
        "train_dataset.apply_to_data(convert_to_formal_text)\n",
        "dev_dataset.apply_to_data(convert_to_formal_text)\n",
        "test_dataset.apply_to_data(convert_to_formal_text)"
      ],
      "outputs": [],
      "metadata": {
        "id": "bXZm9jbxqhpr"
      }
    },
    {
      "cell_type": "code",
      "execution_count": 48,
      "source": [
        "from tensorflow.keras.preprocessing.sequence import pad_sequences\n",
        "from tensorflow.keras.preprocessing.text import Tokenizer\n",
        "\n",
        "all_texts = texts = pd.concat([\n",
        "                               train_dataset.get_texts(), \n",
        "                               dev_dataset.get_texts(), \n",
        "                               test_dataset.get_texts()\n",
        "                               ], \n",
        "                              axis=0, ignore_index=True).astype(\"str\")\n",
        "tokenizer = Tokenizer()\n",
        "tokenizer.fit_on_texts(all_texts)\n",
        "embedding_matrix = create_embedding_matrix(tokenizer, keyed_vector_model)"
      ],
      "outputs": [
        {
          "output_type": "stream",
          "name": "stderr",
          "text": [
            "/usr/local/lib/python3.7/dist-packages/ipykernel_launcher.py:5: DeprecationWarning: Call to deprecated `wv` (Attribute will be removed in 4.0.0, use self instead).\n",
            "  \"\"\"\n"
          ]
        }
      ],
      "metadata": {
        "colab": {
          "base_uri": "https://localhost:8080/"
        },
        "id": "ZO4NoIfcm705",
        "outputId": "41914e6b-6353-4ea4-e320-5c234737b985"
      }
    },
    {
      "cell_type": "code",
      "execution_count": 50,
      "source": [
        "padded_length = 100\n",
        "\n",
        "seq = tokenizer.texts_to_sequences(train_dataset.get_texts())\n",
        "X_train = pad_sequences(seq, maxlen=padded_length, padding='post', truncating='post')\n",
        "y_train = train_dataset.get_labels()\n",
        "\n",
        "seq = tokenizer.texts_to_sequences(dev_dataset.get_texts())\n",
        "X_val = pad_sequences(seq, maxlen=padded_length, padding='post', truncating='post')\n",
        "y_val = dev_dataset.get_labels()\n",
        "\n",
        "seq = tokenizer.texts_to_sequences(test_dataset.get_texts())\n",
        "X_test = pad_sequences(seq, maxlen=padded_length, padding='post', truncating='post')\n",
        "y_test = test_dataset.get_labels()"
      ],
      "outputs": [],
      "metadata": {
        "id": "No-KjH7-tbSt"
      }
    },
    {
      "cell_type": "code",
      "execution_count": 53,
      "source": [
        "import tensorflow as tf\n",
        "\n",
        "from tensorflow.keras.models import Sequential\n",
        "# from keras.models import Model\n",
        "from tensorflow.keras.layers import Dense, Flatten, LSTM, Dropout, Activation, Embedding, Bidirectional\n",
        "# from keras.layers.normalization import BatchNormalization\n",
        "# from keras.layers.merge import concatenate\n",
        "# from keras.layers import Dense, Input, LSTM, Embedding, Dropout, Activation\n",
        "\n",
        "vocab_size = len(tokenizer.word_index) + 1\n",
        "padded_length = 100\n",
        "corpus_vector_dim = 48\n",
        "\n",
        "rnn_model = Sequential([\n",
        "    Embedding(input_dim=vocab_size, output_dim=corpus_vector_dim, weights=[embedding_matrix], input_length=padded_length, trainable=False),\n",
        "    Bidirectional(LSTM(64)),\n",
        "    # tf.keras.layers.LSTM(64),\n",
        "    Dense(64, activation='relu'),\n",
        "    Dense(32, activation='relu'),\n",
        "    Dense(16, activation='relu'),\n",
        "    Dense(1, activation='sigmoid')\n",
        "])\n",
        "\n",
        "rnn_model.summary()"
      ],
      "outputs": [
        {
          "output_type": "stream",
          "name": "stdout",
          "text": [
            "Model: \"sequential\"\n",
            "_________________________________________________________________\n",
            "Layer (type)                 Output Shape              Param #   \n",
            "=================================================================\n",
            "embedding (Embedding)        (None, 100, 48)           2332800   \n",
            "_________________________________________________________________\n",
            "bidirectional (Bidirectional (None, 128)               57856     \n",
            "_________________________________________________________________\n",
            "dense (Dense)                (None, 64)                8256      \n",
            "_________________________________________________________________\n",
            "dense_1 (Dense)              (None, 32)                2080      \n",
            "_________________________________________________________________\n",
            "dense_2 (Dense)              (None, 16)                528       \n",
            "_________________________________________________________________\n",
            "dense_3 (Dense)              (None, 1)                 17        \n",
            "=================================================================\n",
            "Total params: 2,401,537\n",
            "Trainable params: 68,737\n",
            "Non-trainable params: 2,332,800\n",
            "_________________________________________________________________\n"
          ]
        }
      ],
      "metadata": {
        "colab": {
          "base_uri": "https://localhost:8080/"
        },
        "id": "MB8GmIfLa-ED",
        "outputId": "580d49c7-975f-4739-e63b-444e8bf1fa9c"
      }
    },
    {
      "cell_type": "code",
      "execution_count": 54,
      "source": [
        "from keras import backend as K\n",
        "\n",
        "def recall_m(y_true, y_pred):\n",
        "    true_positives = K.sum(K.round(K.clip(y_true * y_pred, 0, 1)))\n",
        "    possible_positives = K.sum(K.round(K.clip(y_true, 0, 1)))\n",
        "    recall = true_positives / (possible_positives + K.epsilon())\n",
        "    return recall\n",
        "\n",
        "def precision_m(y_true, y_pred):\n",
        "    true_positives = K.sum(K.round(K.clip(y_true * y_pred, 0, 1)))\n",
        "    predicted_positives = K.sum(K.round(K.clip(y_pred, 0, 1)))\n",
        "    precision = true_positives / (predicted_positives + K.epsilon())\n",
        "    return precision\n",
        "\n",
        "def f1_m(y_true, y_pred):\n",
        "    precision = precision_m(y_true, y_pred)\n",
        "    recall = recall_m(y_true, y_pred)\n",
        "    return 2*((precision*recall)/(precision+recall+K.epsilon()))"
      ],
      "outputs": [],
      "metadata": {
        "id": "QhD2F6dRygDY"
      }
    },
    {
      "cell_type": "code",
      "execution_count": 55,
      "source": [
        "opt = tf.keras.optimizers.Adam(learning_rate=0.001, decay=1e-6)\n",
        "\n",
        "rnn_model.compile(loss='binary_crossentropy', optimizer=opt, metrics=['accuracy', recall_m, precision_m, f1_m])"
      ],
      "outputs": [],
      "metadata": {
        "id": "LQRctrSFf19H"
      }
    },
    {
      "cell_type": "code",
      "execution_count": 57,
      "source": [
        "from keras.callbacks import EarlyStopping, ReduceLROnPlateau\n",
        "# from keras.callbacks import EarlyStopping, ModelCheckpoint\n",
        "\n",
        "num_epochs = 15\n",
        "history_callback = rnn_model.fit(\n",
        "        X_train, y_train, \n",
        "        epochs=num_epochs, verbose=2,\n",
        "        validation_data=(X_val, y_val), \n",
        "        callbacks=[\n",
        "           EarlyStopping(patience=4, restore_best_weights=True),\n",
        "           ReduceLROnPlateau(patience=3)\n",
        "        ])"
      ],
      "outputs": [
        {
          "output_type": "stream",
          "name": "stdout",
          "text": [
            "Epoch 1/15\n",
            "676/676 - 61s - loss: 0.3987 - accuracy: 0.8280 - recall_m: 0.6017 - precision_m: 0.6844 - f1_m: 0.6231 - val_loss: 0.4014 - val_accuracy: 0.8336 - val_recall_m: 0.4300 - val_precision_m: 0.7775 - val_f1_m: 0.5313\n",
            "Epoch 2/15\n",
            "676/676 - 56s - loss: 0.3582 - accuracy: 0.8492 - recall_m: 0.6707 - precision_m: 0.7655 - f1_m: 0.6994 - val_loss: 0.3627 - val_accuracy: 0.8443 - val_recall_m: 0.6017 - val_precision_m: 0.6974 - val_f1_m: 0.6225\n",
            "Epoch 3/15\n",
            "676/676 - 56s - loss: 0.3441 - accuracy: 0.8519 - recall_m: 0.6798 - precision_m: 0.7702 - f1_m: 0.7081 - val_loss: 0.3653 - val_accuracy: 0.8479 - val_recall_m: 0.5693 - val_precision_m: 0.7008 - val_f1_m: 0.6070\n",
            "Epoch 4/15\n",
            "676/676 - 56s - loss: 0.3334 - accuracy: 0.8584 - recall_m: 0.6900 - precision_m: 0.7848 - f1_m: 0.7200 - val_loss: 0.3528 - val_accuracy: 0.8436 - val_recall_m: 0.4665 - val_precision_m: 0.7352 - val_f1_m: 0.5453\n",
            "Epoch 5/15\n",
            "676/676 - 57s - loss: 0.3245 - accuracy: 0.8607 - recall_m: 0.6990 - precision_m: 0.7863 - f1_m: 0.7255 - val_loss: 0.3462 - val_accuracy: 0.8507 - val_recall_m: 0.5983 - val_precision_m: 0.7055 - val_f1_m: 0.6283\n",
            "Epoch 6/15\n",
            "676/676 - 56s - loss: 0.3127 - accuracy: 0.8688 - recall_m: 0.7097 - precision_m: 0.7972 - f1_m: 0.7385 - val_loss: 0.3469 - val_accuracy: 0.8511 - val_recall_m: 0.6333 - val_precision_m: 0.6956 - val_f1_m: 0.6442\n",
            "Epoch 7/15\n",
            "676/676 - 56s - loss: 0.3033 - accuracy: 0.8735 - recall_m: 0.7247 - precision_m: 0.8038 - f1_m: 0.7500 - val_loss: 0.3614 - val_accuracy: 0.8396 - val_recall_m: 0.6822 - val_precision_m: 0.6499 - val_f1_m: 0.6415\n",
            "Epoch 8/15\n",
            "676/676 - 56s - loss: 0.2928 - accuracy: 0.8766 - recall_m: 0.7352 - precision_m: 0.8130 - f1_m: 0.7588 - val_loss: 0.3427 - val_accuracy: 0.8600 - val_recall_m: 0.6858 - val_precision_m: 0.6988 - val_f1_m: 0.6750\n",
            "Epoch 9/15\n",
            "676/676 - 56s - loss: 0.2809 - accuracy: 0.8829 - recall_m: 0.7539 - precision_m: 0.8169 - f1_m: 0.7707 - val_loss: 0.3516 - val_accuracy: 0.8611 - val_recall_m: 0.6352 - val_precision_m: 0.7194 - val_f1_m: 0.6543\n",
            "Epoch 10/15\n",
            "676/676 - 55s - loss: 0.2704 - accuracy: 0.8887 - recall_m: 0.7630 - precision_m: 0.8267 - f1_m: 0.7817 - val_loss: 0.3533 - val_accuracy: 0.8496 - val_recall_m: 0.6557 - val_precision_m: 0.6928 - val_f1_m: 0.6482\n",
            "Epoch 11/15\n",
            "676/676 - 55s - loss: 0.2563 - accuracy: 0.8929 - recall_m: 0.7795 - precision_m: 0.8303 - f1_m: 0.7928 - val_loss: 0.3640 - val_accuracy: 0.8521 - val_recall_m: 0.6279 - val_precision_m: 0.6882 - val_f1_m: 0.6364\n",
            "Epoch 12/15\n",
            "676/676 - 56s - loss: 0.2288 - accuracy: 0.9075 - recall_m: 0.8042 - precision_m: 0.8577 - f1_m: 0.8206 - val_loss: 0.3811 - val_accuracy: 0.8471 - val_recall_m: 0.6740 - val_precision_m: 0.6601 - val_f1_m: 0.6456\n"
          ]
        }
      ],
      "metadata": {
        "colab": {
          "base_uri": "https://localhost:8080/"
        },
        "id": "nhjUlW6jf9x4",
        "outputId": "8d7290b4-6ef2-470d-d97c-8c656650c364"
      }
    },
    {
      "cell_type": "code",
      "execution_count": 68,
      "source": [
        "import matplotlib.pyplot as plt\n",
        "\n",
        "def plot_graphs(history, string):\n",
        "  plt.plot(history.history[string])\n",
        "  plt.plot(history.history['val_'+string])\n",
        "  plt.xlabel(\"Epochs\")\n",
        "  plt.ylabel(string)\n",
        "  plt.legend([string, 'val_'+string])\n",
        "  plt.show()\n",
        "  \n",
        "plot_graphs(history_callback, \"accuracy\")\n",
        "plot_graphs(history_callback, \"precision_m\")\n",
        "plot_graphs(history_callback, \"recall_m\")\n",
        "plot_graphs(history_callback, \"f1_m\")\n",
        "plot_graphs(history_callback, \"loss\")"
      ],
      "outputs": [
        {
          "output_type": "display_data",
          "data": {
            "text/plain": [
              "<Figure size 432x288 with 1 Axes>"
            ],
            "image/png": "[encoded data removed]"
          },
          "metadata": {
            "needs_background": "light"
          }
        },
        {
          "output_type": "display_data",
          "data": {
            "text/plain": [
              "<Figure size 432x288 with 1 Axes>"
            ],
            "image/png": "[encoded data removed]"
          },
          "metadata": {
            "needs_background": "light"
          }
        },
        {
          "output_type": "display_data",
          "data": {
            "text/plain": [
              "<Figure size 432x288 with 1 Axes>"
            ],
            "image/png": "[encoded data removed]"
          },
          "metadata": {
            "needs_background": "light"
          }
        },
        {
          "output_type": "display_data",
          "data": {
            "text/plain": [
              "<Figure size 432x288 with 1 Axes>"
            ],
            "image/png": "[encoded data removed]"
          },
          "metadata": {
            "needs_background": "light"
          }
        },
        {
          "output_type": "display_data",
          "data": {
            "text/plain": [
              "<Figure size 432x288 with 1 Axes>"
            ],
            "image/png": "[encoded data removed]"
          },
          "metadata": {
            "needs_background": "light"
          }
        }
      ],
      "metadata": {
        "id": "EvR92xeD_vtd",
        "colab": {
          "base_uri": "https://localhost:8080/",
          "height": 1000
        },
        "outputId": "82d89f7f-b83b-4977-e108-2e3fbec0fbc7"
      }
    },
    {
      "cell_type": "code",
      "execution_count": 66,
      "source": [
        "from sklearn.metrics import accuracy_score, f1_score, recall_score, precision_score\n",
        "\n",
        "y_pred = rnn_model.predict(X_test)\n",
        "y_pred = [1 if y >= 0.5 else 0 for y in y_pred]\n",
        "\n",
        "# print(y_pred)\n",
        "\n",
        "acc = accuracy_score(y_test, y_pred)\n",
        "f1 = f1_score(y_test, y_pred, average='macro')\n",
        "rec = recall_score(y_test, y_pred, average='macro')\n",
        "prec = precision_score(y_test, y_pred, average='macro')\n",
        "\n",
        "print(\"Acc: \", acc)\n",
        "print(\"F1: \", f1)\n",
        "print(\"recall: \", rec)\n",
        "print(\"precision: \", prec)"
      ],
      "outputs": [
        {
          "output_type": "stream",
          "name": "stdout",
          "text": [
            "Acc:  0.86\n",
            "F1:  0.811891939322811\n",
            "recall:  0.8075385656100249\n",
            "precision:  0.8166281793760537\n"
          ]
        }
      ],
      "metadata": {
        "colab": {
          "base_uri": "https://localhost:8080/"
        },
        "id": "pfj4c2of1TCy",
        "outputId": "c96e0d83-07b6-4256-9a84-482eadad6016"
      }
    }
  ]
}